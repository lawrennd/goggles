{
 "cells": [
  {
   "cell_type": "markdown",
   "metadata": {},
   "source": [
    "# Google Spreadsheet Interface\n",
    "\n",
    "## Open Data Science Initiative\n",
    "\n",
    "### 14th August 2014 Neil Lawrence\n",
    "\n",
    "### Updated 17th October 2014 Neil Lawrence\n",
    "### Updated 19th October 2015 Neil Lawrence\n",
    "### Updated 27th May 2021 Neil Lawrence\n",
    "### Updated 22nd December 2021 Neil Lawrence\n",
    "\n",
    "As part of the distribution of information to area chairs in NIPS 2014 we used Google docs to provide summary spreadsheets. Review information is processed in `pandas` so this rough interface is designed to allow uploading and downloading of information from google spreadsheets as pandas data frames.\n",
    "\n",
    "For this file to work, there needs to be a configuration file called `_googoal.yml` in this subdirectory that specifies the following:\n",
    "\n",
    "```\n",
    "google: # Set the email address of an account to access google doc information.\n",
    "  oauth2_keyfile: # Location of the auth key json file.\n",
    "  analytics_table: # analytics table number\n",
    "google_docs:\n",
    "  user: # User of the google docs accounts\n",
    "  password: # Set the password of an account to access google doc information.\n",
    "gmail:\n",
    "  user: user1@gmail.com\n",
    "  name: Firstname Lastname\n",
    "```\n"
   ]
  },
  {
   "cell_type": "markdown",
   "metadata": {},
   "source": [
    "First you need to create a set of OAuth client ID credentials. You can do this as a desktop app. Instructions are here: <https://developers.google.com/workspace/guides/create-credentials>\n",
    "\n",
    "1. Open the [Google Cloud Console](https://console.cloud.google.com/).\n",
    "2. At the top-left, click Menu > APIs & Services > Credentials.\n",
    "3. Click Create Credentials > OAuth client ID.\n",
    "4. Click Application type > Desktop app.\n",
    "5. In the \"Name\" field, type a name for the credential. This name is only shown in the Cloud Console.\n",
    "6. Click Create. The OAuth client created screen appears, showing your new Client ID and Client secret. Download the associated `json` file and save it, for example as `googoal-client-credentials.json`\n",
    "7. Click OK. The newly created credential appears under \"OAuth 2.0 Client IDs.\"\n",
    "8. Open the file `_googoal.yml` and add \n",
    "```\n",
    "google: # Set the email address of an account to access google doc information.\n",
    "  oauth2_keyfile: googoal-client-credentials.json\n",
    "```\n",
    "as the `oauth2_keyfile`."
   ]
  },
  {
   "cell_type": "code",
   "execution_count": 1,
   "metadata": {},
   "outputs": [],
   "source": [
    "import googoal as gl\n",
    "import pandas as pd"
   ]
  },
  {
   "cell_type": "markdown",
   "metadata": {},
   "source": [
    "Next you'll need to make use of two gmail user IDs for this example.\n"
   ]
  },
  {
   "cell_type": "code",
   "execution_count": 2,
   "metadata": {},
   "outputs": [],
   "source": [
    "user1 = \"nips2014@gmail.com\"\n",
    "user2 = \"n.lawrence@sheffield.ac.uk\""
   ]
  },
  {
   "cell_type": "markdown",
   "metadata": {},
   "source": [
    "First let's create a simple data frame for placing in a spreadsheet."
   ]
  },
  {
   "cell_type": "code",
   "execution_count": 3,
   "metadata": {},
   "outputs": [],
   "source": [
    "d = {'one' : pd.Series([1., 2., 3.], index=['a', 'b', 'c']),\n",
    "    'two' : pd.Series([1., 2., 3., 4.], index=['a', 'b', 'c', 'd'])} \n",
    "\n",
    "df = pd.DataFrame(d)"
   ]
  },
  {
   "cell_type": "code",
   "execution_count": 4,
   "metadata": {},
   "outputs": [
    {
     "data": {
      "text/html": [
       "<div>\n",
       "<style scoped>\n",
       "    .dataframe tbody tr th:only-of-type {\n",
       "        vertical-align: middle;\n",
       "    }\n",
       "\n",
       "    .dataframe tbody tr th {\n",
       "        vertical-align: top;\n",
       "    }\n",
       "\n",
       "    .dataframe thead th {\n",
       "        text-align: right;\n",
       "    }\n",
       "</style>\n",
       "<table border=\"1\" class=\"dataframe\">\n",
       "  <thead>\n",
       "    <tr style=\"text-align: right;\">\n",
       "      <th></th>\n",
       "      <th>one</th>\n",
       "      <th>two</th>\n",
       "    </tr>\n",
       "  </thead>\n",
       "  <tbody>\n",
       "    <tr>\n",
       "      <th>a</th>\n",
       "      <td>1.0</td>\n",
       "      <td>1.0</td>\n",
       "    </tr>\n",
       "    <tr>\n",
       "      <th>b</th>\n",
       "      <td>2.0</td>\n",
       "      <td>2.0</td>\n",
       "    </tr>\n",
       "    <tr>\n",
       "      <th>c</th>\n",
       "      <td>3.0</td>\n",
       "      <td>3.0</td>\n",
       "    </tr>\n",
       "    <tr>\n",
       "      <th>d</th>\n",
       "      <td>NaN</td>\n",
       "      <td>4.0</td>\n",
       "    </tr>\n",
       "  </tbody>\n",
       "</table>\n",
       "</div>"
      ],
      "text/plain": [
       "   one  two\n",
       "a  1.0  1.0\n",
       "b  2.0  2.0\n",
       "c  3.0  3.0\n",
       "d  NaN  4.0"
      ]
     },
     "execution_count": 4,
     "metadata": {},
     "output_type": "execute_result"
    }
   ],
   "source": [
    "df"
   ]
  },
  {
   "cell_type": "markdown",
   "metadata": {},
   "source": [
    "### Creating a Google Sheet\n",
    "Now we create the google document and write our data frame, `df`, to the spreadsheet."
   ]
  },
  {
   "cell_type": "code",
   "execution_count": 5,
   "metadata": {},
   "outputs": [],
   "source": [
    "sheet = gl.sheet.Sheet()"
   ]
  },
  {
   "cell_type": "markdown",
   "metadata": {},
   "source": [
    "The spreadsheet is uniquely defined by its resource `id`, which can be recovered from the spreadsheet as follows:"
   ]
  },
  {
   "cell_type": "code",
   "execution_count": 6,
   "metadata": {},
   "outputs": [
    {
     "name": "stdout",
     "output_type": "stream",
     "text": [
      "1lv9yYAjhtLp9YmRSPGPx3CaNT9ck4DrqgNuC6CZhMoo\n"
     ]
    }
   ],
   "source": [
    "print(sheet.resource._id)"
   ]
  },
  {
   "cell_type": "markdown",
   "metadata": {},
   "source": [
    "The spreadsheet can be shared (by default with 'edit' access) to other gmail users."
   ]
  },
  {
   "cell_type": "code",
   "execution_count": 7,
   "metadata": {},
   "outputs": [],
   "source": [
    "sheet.resource.share(user2)"
   ]
  },
  {
   "cell_type": "code",
   "execution_count": 8,
   "metadata": {},
   "outputs": [],
   "source": [
    "sheet.share_delete(user2)"
   ]
  },
  {
   "cell_type": "markdown",
   "metadata": {},
   "source": [
    "To share with 'view' access you pass an extra argument, `share_type='reader'`. You can also send a notification (by default there is no mail sent)."
   ]
  },
  {
   "cell_type": "code",
   "execution_count": 9,
   "metadata": {},
   "outputs": [],
   "source": [
    "sheet.share(user2)\n",
    "sheet.share_modify(user2,share_type=\"reader\",send_notifications=True)"
   ]
  },
  {
   "cell_type": "code",
   "execution_count": 10,
   "metadata": {},
   "outputs": [
    {
     "data": {
      "text/plain": [
       "[('n.lawrence@sheffield.ac.uk', 'reader'), ('lawrennd@gmail.com', 'owner')]"
      ]
     },
     "execution_count": 10,
     "metadata": {},
     "output_type": "execute_result"
    }
   ],
   "source": [
    "sheet.share_list()"
   ]
  },
  {
   "cell_type": "markdown",
   "metadata": {},
   "source": [
    "The spreadsheet's title can also be renamed."
   ]
  },
  {
   "cell_type": "code",
   "execution_count": 11,
   "metadata": {},
   "outputs": [],
   "source": [
    "sheet.title = 'New Title'"
   ]
  },
  {
   "cell_type": "markdown",
   "metadata": {},
   "source": [
    "And the new title exhibited."
   ]
  },
  {
   "cell_type": "code",
   "execution_count": 12,
   "metadata": {},
   "outputs": [
    {
     "data": {
      "text/plain": [
       "'New Title'"
      ]
     },
     "execution_count": 12,
     "metadata": {},
     "output_type": "execute_result"
    }
   ],
   "source": [
    "sheet.title"
   ]
  },
  {
   "cell_type": "markdown",
   "metadata": {},
   "source": [
    "Or it can be deleted."
   ]
  },
  {
   "cell_type": "code",
   "execution_count": 13,
   "metadata": {},
   "outputs": [],
   "source": [
    "sheet.resource.delete()"
   ]
  },
  {
   "cell_type": "markdown",
   "metadata": {},
   "source": [
    "### Loading an Existing Sheet\n",
    "\n",
    "Now, for demonstration pruposes, here's the key of 'one we made earlier'. You can open an existing spreadsheet by providing the key as follows"
   ]
  },
  {
   "cell_type": "code",
   "execution_count": 14,
   "metadata": {},
   "outputs": [],
   "source": [
    "resource = gl.drive.Resource(id='1zV1LT5_ITZuycRwv7iM2wLHH61PjMtKaPPIFYv7NdY8', drive=sheet.resource.drive)\n",
    "sheet = gl.sheet.Sheet(resource=resource)"
   ]
  },
  {
   "cell_type": "code",
   "execution_count": 15,
   "metadata": {},
   "outputs": [
    {
     "data": {
      "text/html": [
       "<p><b>Cat</b> at <a href=\"https://docs.google.com/spreadsheets/d/1zV1LT5_ITZuycRwv7iM2wLHH61PjMtKaPPIFYv7NdY8/\" target=\"_blank\">this url.</a>\n",
       "</p><div>\n",
       "<style scoped>\n",
       "    .dataframe tbody tr th:only-of-type {\n",
       "        vertical-align: middle;\n",
       "    }\n",
       "\n",
       "    .dataframe tbody tr th {\n",
       "        vertical-align: top;\n",
       "    }\n",
       "\n",
       "    .dataframe thead th {\n",
       "        text-align: right;\n",
       "    }\n",
       "</style>\n",
       "<table border=\"1\" class=\"dataframe\">\n",
       "  <thead>\n",
       "    <tr style=\"text-align: right;\">\n",
       "      <th></th>\n",
       "      <th>one</th>\n",
       "      <th>two</th>\n",
       "    </tr>\n",
       "    <tr>\n",
       "      <th></th>\n",
       "      <th></th>\n",
       "      <th></th>\n",
       "    </tr>\n",
       "  </thead>\n",
       "  <tbody>\n",
       "    <tr>\n",
       "      <th>b</th>\n",
       "      <td>2</td>\n",
       "      <td>2</td>\n",
       "    </tr>\n",
       "    <tr>\n",
       "      <th>d</th>\n",
       "      <td></td>\n",
       "      <td>4</td>\n",
       "    </tr>\n",
       "    <tr>\n",
       "      <th>a</th>\n",
       "      <td>1</td>\n",
       "      <td>1</td>\n",
       "    </tr>\n",
       "  </tbody>\n",
       "</table>\n",
       "</div>"
      ],
      "text/plain": [
       "<googoal.sheet.Sheet at 0x7fbe0b15feb0>"
      ]
     },
     "execution_count": 15,
     "metadata": {},
     "output_type": "execute_result"
    }
   ],
   "source": [
    "sheet"
   ]
  },
  {
   "cell_type": "code",
   "execution_count": 16,
   "metadata": {},
   "outputs": [
    {
     "data": {
      "text/plain": [
       "'https://docs.google.com/spreadsheets/d/e/1zV1LT5_ITZuycRwv7iM2wLHH61PjMtKaPPIFYv7NdY8/pubhtml?widget=true&amp;headers=false'"
      ]
     },
     "execution_count": 16,
     "metadata": {},
     "output_type": "execute_result"
    }
   ],
   "source": [
    "sheet.embedurl"
   ]
  },
  {
   "cell_type": "markdown",
   "metadata": {},
   "source": [
    "For this google doc, now it's created we've published it to the web. Quoting from [the developer's site](https://developers.google.com/google-apps/spreadsheets/)\n",
    "\n",
    "\"Publishing a spreadsheet to the web can only be done from the Google sheet's user interface. To start publishing a spreadsheet to the web, select `File > Publish` to the web from the sheet's user interface, and then click the Start Publishing button.\"\n",
    "\n",
    "Once the spreadsheet is published you can have people viewing it publicly as follows."
   ]
  },
  {
   "cell_type": "code",
   "execution_count": 34,
   "metadata": {},
   "outputs": [
    {
     "data": {
      "text/plain": [
       "'application/vnd.google-apps.spreadsheet'"
      ]
     },
     "execution_count": 34,
     "metadata": {},
     "output_type": "execute_result"
    }
   ],
   "source": [
    "sheet.resource.drive.service.files().get(fileId=sheet.id, fields=\"mimeType\").execute()[\"mimeType\"]"
   ]
  },
  {
   "cell_type": "code",
   "execution_count": 30,
   "metadata": {},
   "outputs": [
    {
     "data": {
      "text/plain": [
       "'Cat'"
      ]
     },
     "execution_count": 30,
     "metadata": {},
     "output_type": "execute_result"
    }
   ],
   "source": [
    "sheet.resource.get_name()"
   ]
  },
  {
   "cell_type": "code",
   "execution_count": 18,
   "metadata": {},
   "outputs": [
    {
     "data": {
      "text/plain": [
       "{'kind': 'drive#file',\n",
       " 'id': '1zV1LT5_ITZuycRwv7iM2wLHH61PjMtKaPPIFYv7NdY8',\n",
       " 'name': 'Cat',\n",
       " 'mimeType': 'application/vnd.google-apps.spreadsheet',\n",
       " 'starred': False,\n",
       " 'trashed': False,\n",
       " 'explicitlyTrashed': False,\n",
       " 'parents': ['0AL1UHKz3CH09Uk9PVA'],\n",
       " 'spaces': ['drive'],\n",
       " 'version': '113',\n",
       " 'webViewLink': 'https://docs.google.com/spreadsheets/d/1zV1LT5_ITZuycRwv7iM2wLHH61PjMtKaPPIFYv7NdY8/edit?usp=drivesdk',\n",
       " 'iconLink': 'https://drive-thirdparty.googleusercontent.com/16/type/application/vnd.google-apps.spreadsheet',\n",
       " 'hasThumbnail': True,\n",
       " 'thumbnailLink': 'https://docs.google.com/feeds/vt?gd=true&id=1zV1LT5_ITZuycRwv7iM2wLHH61PjMtKaPPIFYv7NdY8&v=15&s=AMedNnoAAAAAYdd7EH399EVNxvxUFUdKGne57FYqg-41&sz=s220',\n",
       " 'thumbnailVersion': '15',\n",
       " 'viewedByMe': True,\n",
       " 'viewedByMeTime': '2022-01-06T18:06:26.215Z',\n",
       " 'createdTime': '2022-01-05T22:28:39.145Z',\n",
       " 'modifiedTime': '2022-01-06T21:28:16.486Z',\n",
       " 'modifiedByMeTime': '2022-01-06T21:28:16.486Z',\n",
       " 'modifiedByMe': True,\n",
       " 'owners': [{'kind': 'drive#user',\n",
       "   'displayName': 'Neil Lawrence',\n",
       "   'photoLink': 'https://lh3.googleusercontent.com/a-/AOh14GiHjxAbY6aGO2wtoarjMIfRxifjK0Te61RuwpnMjQ=s64',\n",
       "   'me': True,\n",
       "   'permissionId': '12822106802021894772',\n",
       "   'emailAddress': 'lawrennd@gmail.com'}],\n",
       " 'lastModifyingUser': {'kind': 'drive#user',\n",
       "  'displayName': 'Neil Lawrence',\n",
       "  'photoLink': 'https://lh3.googleusercontent.com/a-/AOh14GiHjxAbY6aGO2wtoarjMIfRxifjK0Te61RuwpnMjQ=s64',\n",
       "  'me': True,\n",
       "  'permissionId': '12822106802021894772',\n",
       "  'emailAddress': 'lawrennd@gmail.com'},\n",
       " 'shared': True,\n",
       " 'ownedByMe': True,\n",
       " 'capabilities': {'canAcceptOwnership': False,\n",
       "  'canAddChildren': False,\n",
       "  'canAddMyDriveParent': False,\n",
       "  'canChangeCopyRequiresWriterPermission': True,\n",
       "  'canChangeSecurityUpdateEnabled': False,\n",
       "  'canChangeViewersCanCopyContent': True,\n",
       "  'canComment': True,\n",
       "  'canCopy': True,\n",
       "  'canDelete': True,\n",
       "  'canDownload': True,\n",
       "  'canEdit': True,\n",
       "  'canListChildren': False,\n",
       "  'canModifyContent': True,\n",
       "  'canMoveChildrenWithinDrive': False,\n",
       "  'canMoveItemIntoTeamDrive': True,\n",
       "  'canMoveItemOutOfDrive': True,\n",
       "  'canMoveItemWithinDrive': True,\n",
       "  'canReadRevisions': True,\n",
       "  'canRemoveChildren': False,\n",
       "  'canRemoveMyDriveParent': True,\n",
       "  'canRename': True,\n",
       "  'canShare': True,\n",
       "  'canTrash': True,\n",
       "  'canUntrash': True},\n",
       " 'viewersCanCopyContent': True,\n",
       " 'copyRequiresWriterPermission': False,\n",
       " 'writersCanShare': True,\n",
       " 'permissions': [{'kind': 'drive#permission',\n",
       "   'id': '04946767507665903760',\n",
       "   'type': 'user',\n",
       "   'emailAddress': 'nips2014@gmail.com',\n",
       "   'role': 'writer',\n",
       "   'displayName': 'nips2014',\n",
       "   'deleted': False,\n",
       "   'pendingOwner': False},\n",
       "  {'kind': 'drive#permission',\n",
       "   'id': '10282882308563513722',\n",
       "   'type': 'user',\n",
       "   'emailAddress': 'n.lawrence@sheffield.ac.uk',\n",
       "   'role': 'writer',\n",
       "   'displayName': 'Neil Lawrence',\n",
       "   'photoLink': 'https://lh3.googleusercontent.com/a-/AOh14GiAQnzvSXJvqzJVT9u7WXwl9WSIKrvrV6cnnRFc=s64',\n",
       "   'deleted': False,\n",
       "   'pendingOwner': False},\n",
       "  {'kind': 'drive#permission',\n",
       "   'id': 'anyoneWithLink',\n",
       "   'type': 'anyone',\n",
       "   'role': 'writer',\n",
       "   'allowFileDiscovery': False},\n",
       "  {'kind': 'drive#permission',\n",
       "   'id': '12822106802021894772',\n",
       "   'type': 'user',\n",
       "   'emailAddress': 'lawrennd@gmail.com',\n",
       "   'role': 'owner',\n",
       "   'displayName': 'Neil Lawrence',\n",
       "   'photoLink': 'https://lh3.googleusercontent.com/a-/AOh14GiHjxAbY6aGO2wtoarjMIfRxifjK0Te61RuwpnMjQ=s64',\n",
       "   'deleted': False,\n",
       "   'pendingOwner': False}],\n",
       " 'permissionIds': ['04946767507665903760',\n",
       "  '10282882308563513722',\n",
       "  'anyoneWithLink',\n",
       "  '12822106802021894772'],\n",
       " 'size': '1024',\n",
       " 'quotaBytesUsed': '1024',\n",
       " 'isAppAuthorized': True,\n",
       " 'exportLinks': {'application/x-vnd.oasis.opendocument.spreadsheet': 'https://docs.google.com/spreadsheets/export?id=1zV1LT5_ITZuycRwv7iM2wLHH61PjMtKaPPIFYv7NdY8&exportFormat=ods',\n",
       "  'text/tab-separated-values': 'https://docs.google.com/spreadsheets/export?id=1zV1LT5_ITZuycRwv7iM2wLHH61PjMtKaPPIFYv7NdY8&exportFormat=tsv',\n",
       "  'application/pdf': 'https://docs.google.com/spreadsheets/export?id=1zV1LT5_ITZuycRwv7iM2wLHH61PjMtKaPPIFYv7NdY8&exportFormat=pdf',\n",
       "  'application/vnd.openxmlformats-officedocument.spreadsheetml.sheet': 'https://docs.google.com/spreadsheets/export?id=1zV1LT5_ITZuycRwv7iM2wLHH61PjMtKaPPIFYv7NdY8&exportFormat=xlsx',\n",
       "  'text/csv': 'https://docs.google.com/spreadsheets/export?id=1zV1LT5_ITZuycRwv7iM2wLHH61PjMtKaPPIFYv7NdY8&exportFormat=csv',\n",
       "  'application/zip': 'https://docs.google.com/spreadsheets/export?id=1zV1LT5_ITZuycRwv7iM2wLHH61PjMtKaPPIFYv7NdY8&exportFormat=zip',\n",
       "  'application/vnd.oasis.opendocument.spreadsheet': 'https://docs.google.com/spreadsheets/export?id=1zV1LT5_ITZuycRwv7iM2wLHH61PjMtKaPPIFYv7NdY8&exportFormat=ods'},\n",
       " 'linkShareMetadata': {'securityUpdateEligible': False,\n",
       "  'securityUpdateEnabled': True}}"
      ]
     },
     "execution_count": 18,
     "metadata": {},
     "output_type": "execute_result"
    }
   ],
   "source": [
    "sheet.resource.drive.service.files().get(fileId=sheet.id, fields=\"*\").execute()"
   ]
  },
  {
   "cell_type": "code",
   "execution_count": 19,
   "metadata": {},
   "outputs": [],
   "source": [
    "sheet.share([user1, user2])"
   ]
  },
  {
   "cell_type": "markdown",
   "metadata": {},
   "source": [
    "Or you can modify the access rights they have to the document."
   ]
  },
  {
   "cell_type": "code",
   "execution_count": 20,
   "metadata": {},
   "outputs": [],
   "source": [
    "sheet.share_modify(user2, 'writer')"
   ]
  },
  {
   "cell_type": "markdown",
   "metadata": {},
   "source": [
    "Or you can remove them from the sharing list completely."
   ]
  },
  {
   "cell_type": "code",
   "execution_count": 21,
   "metadata": {},
   "outputs": [],
   "source": [
    "sheet.share_delete(user1)"
   ]
  },
  {
   "cell_type": "markdown",
   "metadata": {},
   "source": [
    "To see who the document is shared with you can use the `share_list()` method."
   ]
  },
  {
   "cell_type": "code",
   "execution_count": 22,
   "metadata": {},
   "outputs": [
    {
     "data": {
      "text/plain": [
       "[('n.lawrence@sheffield.ac.uk', 'writer'),\n",
       " ('Anyone with link', 'writer'),\n",
       " ('lawrennd@gmail.com', 'owner')]"
      ]
     },
     "execution_count": 22,
     "metadata": {},
     "output_type": "execute_result"
    }
   ],
   "source": [
    "sheet.share_list()"
   ]
  },
  {
   "cell_type": "code",
   "execution_count": 23,
   "metadata": {},
   "outputs": [],
   "source": [
    "%debug"
   ]
  },
  {
   "cell_type": "markdown",
   "metadata": {},
   "source": [
    "### Displaying the Sheet\n",
    "\n",
    "You can display the sheet in IPython, this action downloads the sheet and shows the associated `pandas` dataframe."
   ]
  },
  {
   "cell_type": "code",
   "execution_count": 24,
   "metadata": {},
   "outputs": [
    {
     "data": {
      "text/html": [
       "<p><b>Cat</b> at <a href=\"https://docs.google.com/spreadsheets/d/1zV1LT5_ITZuycRwv7iM2wLHH61PjMtKaPPIFYv7NdY8/\" target=\"_blank\">this url.</a>\n",
       "</p><div>\n",
       "<style scoped>\n",
       "    .dataframe tbody tr th:only-of-type {\n",
       "        vertical-align: middle;\n",
       "    }\n",
       "\n",
       "    .dataframe tbody tr th {\n",
       "        vertical-align: top;\n",
       "    }\n",
       "\n",
       "    .dataframe thead th {\n",
       "        text-align: right;\n",
       "    }\n",
       "</style>\n",
       "<table border=\"1\" class=\"dataframe\">\n",
       "  <thead>\n",
       "    <tr style=\"text-align: right;\">\n",
       "      <th></th>\n",
       "      <th>one</th>\n",
       "      <th>two</th>\n",
       "    </tr>\n",
       "    <tr>\n",
       "      <th></th>\n",
       "      <th></th>\n",
       "      <th></th>\n",
       "    </tr>\n",
       "  </thead>\n",
       "  <tbody>\n",
       "    <tr>\n",
       "      <th>b</th>\n",
       "      <td>2</td>\n",
       "      <td>2</td>\n",
       "    </tr>\n",
       "    <tr>\n",
       "      <th>d</th>\n",
       "      <td></td>\n",
       "      <td>4</td>\n",
       "    </tr>\n",
       "    <tr>\n",
       "      <th>a</th>\n",
       "      <td>1</td>\n",
       "      <td>1</td>\n",
       "    </tr>\n",
       "  </tbody>\n",
       "</table>\n",
       "</div>"
      ],
      "text/plain": [
       "<googoal.sheet.Sheet at 0x7fbe0b15feb0>"
      ]
     },
     "metadata": {},
     "output_type": "display_data"
    }
   ],
   "source": [
    "from IPython.display import display\n",
    "display(sheet)\n"
   ]
  },
  {
   "cell_type": "markdown",
   "metadata": {},
   "source": [
    "Or if the spreadsheet is published you can set `sheet.published = True` and get a representation of the spreadsheet embedded in the notebook."
   ]
  },
  {
   "cell_type": "markdown",
   "metadata": {},
   "source": [
    "## Reading and Modifying the Google Sheet\n",
    "\n",
    "To read the data frame back from the spreadsheet you simply use the `read` method."
   ]
  },
  {
   "cell_type": "code",
   "execution_count": 25,
   "metadata": {},
   "outputs": [
    {
     "data": {
      "text/html": [
       "<div>\n",
       "<style scoped>\n",
       "    .dataframe tbody tr th:only-of-type {\n",
       "        vertical-align: middle;\n",
       "    }\n",
       "\n",
       "    .dataframe tbody tr th {\n",
       "        vertical-align: top;\n",
       "    }\n",
       "\n",
       "    .dataframe thead th {\n",
       "        text-align: right;\n",
       "    }\n",
       "</style>\n",
       "<table border=\"1\" class=\"dataframe\">\n",
       "  <thead>\n",
       "    <tr style=\"text-align: right;\">\n",
       "      <th></th>\n",
       "      <th>one</th>\n",
       "      <th>two</th>\n",
       "    </tr>\n",
       "    <tr>\n",
       "      <th></th>\n",
       "      <th></th>\n",
       "      <th></th>\n",
       "    </tr>\n",
       "  </thead>\n",
       "  <tbody>\n",
       "    <tr>\n",
       "      <th>b</th>\n",
       "      <td>2</td>\n",
       "      <td>2</td>\n",
       "    </tr>\n",
       "    <tr>\n",
       "      <th>d</th>\n",
       "      <td></td>\n",
       "      <td>4</td>\n",
       "    </tr>\n",
       "    <tr>\n",
       "      <th>a</th>\n",
       "      <td>1</td>\n",
       "      <td>1</td>\n",
       "    </tr>\n",
       "  </tbody>\n",
       "</table>\n",
       "</div>"
      ],
      "text/plain": [
       "  one  two\n",
       "          \n",
       "b   2    2\n",
       "d        4\n",
       "a   1    1"
      ]
     },
     "execution_count": 25,
     "metadata": {},
     "output_type": "execute_result"
    }
   ],
   "source": [
    "df2 = sheet.read()\n",
    "df2"
   ]
  },
  {
   "cell_type": "markdown",
   "metadata": {},
   "source": [
    "We can now update the spreadsheet, by modifying the data frame, and then requesting an update. The update command looks only for entries that have changed."
   ]
  },
  {
   "cell_type": "code",
   "execution_count": 26,
   "metadata": {},
   "outputs": [
    {
     "data": {
      "text/html": [
       "<div>\n",
       "<style scoped>\n",
       "    .dataframe tbody tr th:only-of-type {\n",
       "        vertical-align: middle;\n",
       "    }\n",
       "\n",
       "    .dataframe tbody tr th {\n",
       "        vertical-align: top;\n",
       "    }\n",
       "\n",
       "    .dataframe thead th {\n",
       "        text-align: right;\n",
       "    }\n",
       "</style>\n",
       "<table border=\"1\" class=\"dataframe\">\n",
       "  <thead>\n",
       "    <tr style=\"text-align: right;\">\n",
       "      <th></th>\n",
       "      <th>one</th>\n",
       "      <th>two</th>\n",
       "    </tr>\n",
       "    <tr>\n",
       "      <th></th>\n",
       "      <th></th>\n",
       "      <th></th>\n",
       "    </tr>\n",
       "  </thead>\n",
       "  <tbody>\n",
       "    <tr>\n",
       "      <th>b</th>\n",
       "      <td>2</td>\n",
       "      <td>2</td>\n",
       "    </tr>\n",
       "    <tr>\n",
       "      <th>d</th>\n",
       "      <td></td>\n",
       "      <td>4</td>\n",
       "    </tr>\n",
       "    <tr>\n",
       "      <th>a</th>\n",
       "      <td>1</td>\n",
       "      <td>1</td>\n",
       "    </tr>\n",
       "  </tbody>\n",
       "</table>\n",
       "</div>"
      ],
      "text/plain": [
       "  one  two\n",
       "          \n",
       "b   2    2\n",
       "d        4\n",
       "a   1    1"
      ]
     },
     "execution_count": 26,
     "metadata": {},
     "output_type": "execute_result"
    }
   ],
   "source": [
    "df2"
   ]
  },
  {
   "cell_type": "code",
   "execution_count": 27,
   "metadata": {},
   "outputs": [
    {
     "data": {
      "text/html": [
       "<div>\n",
       "<style scoped>\n",
       "    .dataframe tbody tr th:only-of-type {\n",
       "        vertical-align: middle;\n",
       "    }\n",
       "\n",
       "    .dataframe tbody tr th {\n",
       "        vertical-align: top;\n",
       "    }\n",
       "\n",
       "    .dataframe thead th {\n",
       "        text-align: right;\n",
       "    }\n",
       "</style>\n",
       "<table border=\"1\" class=\"dataframe\">\n",
       "  <thead>\n",
       "    <tr style=\"text-align: right;\">\n",
       "      <th></th>\n",
       "      <th>one</th>\n",
       "      <th>two</th>\n",
       "    </tr>\n",
       "    <tr>\n",
       "      <th></th>\n",
       "      <th></th>\n",
       "      <th></th>\n",
       "    </tr>\n",
       "  </thead>\n",
       "  <tbody>\n",
       "    <tr>\n",
       "      <th>b</th>\n",
       "      <td>2</td>\n",
       "      <td>2</td>\n",
       "    </tr>\n",
       "    <tr>\n",
       "      <th>d</th>\n",
       "      <td></td>\n",
       "      <td>4</td>\n",
       "    </tr>\n",
       "    <tr>\n",
       "      <th>a</th>\n",
       "      <td>1</td>\n",
       "      <td>1</td>\n",
       "    </tr>\n",
       "  </tbody>\n",
       "</table>\n",
       "</div>"
      ],
      "text/plain": [
       "  one  two\n",
       "          \n",
       "b   2    2\n",
       "d        4\n",
       "a   1    1"
      ]
     },
     "execution_count": 27,
     "metadata": {},
     "output_type": "execute_result"
    }
   ],
   "source": [
    "df2"
   ]
  },
  {
   "cell_type": "code",
   "execution_count": 28,
   "metadata": {},
   "outputs": [
    {
     "data": {
      "text/html": [
       "<div>\n",
       "<style scoped>\n",
       "    .dataframe tbody tr th:only-of-type {\n",
       "        vertical-align: middle;\n",
       "    }\n",
       "\n",
       "    .dataframe tbody tr th {\n",
       "        vertical-align: top;\n",
       "    }\n",
       "\n",
       "    .dataframe thead th {\n",
       "        text-align: right;\n",
       "    }\n",
       "</style>\n",
       "<table border=\"1\" class=\"dataframe\">\n",
       "  <thead>\n",
       "    <tr style=\"text-align: right;\">\n",
       "      <th></th>\n",
       "      <th>one</th>\n",
       "      <th>two</th>\n",
       "    </tr>\n",
       "    <tr>\n",
       "      <th></th>\n",
       "      <th></th>\n",
       "      <th></th>\n",
       "    </tr>\n",
       "  </thead>\n",
       "  <tbody>\n",
       "    <tr>\n",
       "      <th>b</th>\n",
       "      <td>2</td>\n",
       "      <td>2</td>\n",
       "    </tr>\n",
       "    <tr>\n",
       "      <th>d</th>\n",
       "      <td></td>\n",
       "      <td>4</td>\n",
       "    </tr>\n",
       "    <tr>\n",
       "      <th>a</th>\n",
       "      <td>1</td>\n",
       "      <td>1</td>\n",
       "    </tr>\n",
       "  </tbody>\n",
       "</table>\n",
       "</div>"
      ],
      "text/plain": [
       "  one  two\n",
       "          \n",
       "b   2    2\n",
       "d        4\n",
       "a   1    1"
      ]
     },
     "execution_count": 28,
     "metadata": {},
     "output_type": "execute_result"
    }
   ],
   "source": [
    "df2"
   ]
  },
  {
   "cell_type": "code",
   "execution_count": 29,
   "metadata": {},
   "outputs": [
    {
     "ename": "NameError",
     "evalue": "name 'df_fal' is not defined",
     "output_type": "error",
     "traceback": [
      "\u001b[0;31m---------------------------------------------------------------------------\u001b[0m",
      "\u001b[0;31mNameError\u001b[0m                                 Traceback (most recent call last)",
      "\u001b[0;32m<ipython-input-29-cea0eccda205>\u001b[0m in \u001b[0;36m<module>\u001b[0;34m\u001b[0m\n\u001b[1;32m      1\u001b[0m \u001b[0mdf2\u001b[0m\u001b[0;34m.\u001b[0m\u001b[0mat\u001b[0m\u001b[0;34m[\u001b[0m\u001b[0;34m\"a\"\u001b[0m\u001b[0;34m,\u001b[0m \u001b[0;34m\"one\"\u001b[0m\u001b[0;34m]\u001b[0m \u001b[0;34m=\u001b[0m \u001b[0;36m2.3\u001b[0m\u001b[0;34m\u001b[0m\u001b[0;34m\u001b[0m\u001b[0m\n\u001b[0;32m----> 2\u001b[0;31m \u001b[0msheet\u001b[0m\u001b[0;34m.\u001b[0m\u001b[0mupdate\u001b[0m\u001b[0;34m(\u001b[0m\u001b[0mdf2\u001b[0m\u001b[0;34m)\u001b[0m\u001b[0;34m\u001b[0m\u001b[0;34m\u001b[0m\u001b[0m\n\u001b[0m\u001b[1;32m      3\u001b[0m \u001b[0msheet\u001b[0m\u001b[0;34m\u001b[0m\u001b[0;34m\u001b[0m\u001b[0m\n",
      "\u001b[0;32m~/opt/anaconda3/lib/python3.8/site-packages/googoal-0.0.1-py3.8.egg/googoal/sheet.py\u001b[0m in \u001b[0;36mupdate\u001b[0;34m(self, data_frame, columns, comment, overwrite)\u001b[0m\n\u001b[1;32m    216\u001b[0m                     \u001b[0mdf_val\u001b[0m \u001b[0;34m=\u001b[0m \u001b[0mdata_frame\u001b[0m\u001b[0;34m[\u001b[0m\u001b[0mcolumn\u001b[0m\u001b[0;34m]\u001b[0m\u001b[0;34m[\u001b[0m\u001b[0mindex\u001b[0m\u001b[0;34m]\u001b[0m\u001b[0;34m\u001b[0m\u001b[0;34m\u001b[0m\u001b[0m\n\u001b[1;32m    217\u001b[0m                     \u001b[0mty\u001b[0m \u001b[0;34m=\u001b[0m \u001b[0mtype\u001b[0m\u001b[0;34m(\u001b[0m\u001b[0mdf_val\u001b[0m\u001b[0;34m)\u001b[0m\u001b[0;34m\u001b[0m\u001b[0;34m\u001b[0m\u001b[0m\n\u001b[0;32m--> 218\u001b[0;31m                     \u001b[0mlog\u001b[0m\u001b[0;34m.\u001b[0m\u001b[0minfo\u001b[0m\u001b[0;34m(\u001b[0m\u001b[0;34mf\"value is {df_fal} type is {ty}\"\u001b[0m\u001b[0;34m)\u001b[0m\u001b[0;34m\u001b[0m\u001b[0;34m\u001b[0m\u001b[0m\n\u001b[0m\u001b[1;32m    219\u001b[0m                     \u001b[0;32mif\u001b[0m \u001b[0moverwrite\u001b[0m\u001b[0;34m:\u001b[0m\u001b[0;34m\u001b[0m\u001b[0;34m\u001b[0m\u001b[0m\n\u001b[1;32m    220\u001b[0m                         \u001b[0;32mif\u001b[0m \u001b[0;32mnot\u001b[0m \u001b[0mss_val\u001b[0m \u001b[0;34m==\u001b[0m \u001b[0mdf_val\u001b[0m\u001b[0;34m:\u001b[0m\u001b[0;34m\u001b[0m\u001b[0;34m\u001b[0m\u001b[0m\n",
      "\u001b[0;31mNameError\u001b[0m: name 'df_fal' is not defined"
     ]
    }
   ],
   "source": [
    "df2.at[\"a\", \"one\"] = 2.3\n",
    "sheet.update(df2)\n",
    "sheet"
   ]
  },
  {
   "cell_type": "markdown",
   "metadata": {},
   "source": [
    "You should see the spreadsheet has changed. You can also delete rows."
   ]
  },
  {
   "cell_type": "code",
   "execution_count": null,
   "metadata": {},
   "outputs": [],
   "source": [
    "sheet.update(df2.drop(\"a\"))\n",
    "display(sheet)"
   ]
  },
  {
   "cell_type": "markdown",
   "metadata": {},
   "source": [
    "Or add them in again. Here we update back to the original data frame (`df`). Note when you look at the google doc that the row is added at the end of the spreadsheet. This is so that any sorting of other rows in the spreadsheet is preserved."
   ]
  },
  {
   "cell_type": "code",
   "execution_count": null,
   "metadata": {},
   "outputs": [],
   "source": [
    "sheet.update(df)"
   ]
  },
  {
   "cell_type": "markdown",
   "metadata": {},
   "source": [
    "Let's open the sheet again with a new interface."
   ]
  },
  {
   "cell_type": "code",
   "execution_count": null,
   "metadata": {},
   "outputs": [],
   "source": [
    "%debug"
   ]
  },
  {
   "cell_type": "code",
   "execution_count": null,
   "metadata": {},
   "outputs": [],
   "source": [
    "sheet2 = gl.sheet.Sheet(resource=sheet.resource)\n",
    "df4 = sheet2.read()\n",
    "display(df4)"
   ]
  },
  {
   "cell_type": "markdown",
   "metadata": {},
   "source": [
    "Note that because we deleted the row indexed by `\"b\"` and then updated the spreadsheet, the row of `b` was added back at the end of the spreadsheet."
   ]
  },
  {
   "cell_type": "code",
   "execution_count": null,
   "metadata": {},
   "outputs": [],
   "source": [
    "sheet2.update(df4.drop(\"c\"))"
   ]
  },
  {
   "cell_type": "code",
   "execution_count": null,
   "metadata": {},
   "outputs": [],
   "source": [
    "display(sheet2)"
   ]
  },
  {
   "cell_type": "code",
   "execution_count": null,
   "metadata": {},
   "outputs": [],
   "source": [
    "sheet2._permission_id(\"lawrennd@gmail.com\")"
   ]
  }
 ],
 "metadata": {
  "anaconda-cloud": {},
  "kernelspec": {
   "display_name": "Python 3",
   "language": "python",
   "name": "python3"
  },
  "language_info": {
   "codemirror_mode": {
    "name": "ipython",
    "version": 3
   },
   "file_extension": ".py",
   "mimetype": "text/x-python",
   "name": "python",
   "nbconvert_exporter": "python",
   "pygments_lexer": "ipython3",
   "version": "3.8.8"
  }
 },
 "nbformat": 4,
 "nbformat_minor": 1
}
