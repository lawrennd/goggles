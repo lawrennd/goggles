{
 "metadata": {
  "name": "",
  "signature": "sha256:80312cba68f64bd8732a52962d286ffced0c8c94a6fd8bf1728ce08e40d39e48"
 },
 "nbformat": 3,
 "nbformat_minor": 0,
 "worksheets": [
  {
   "cells": [
    {
     "cell_type": "markdown",
     "metadata": {},
     "source": [
      "# Google Spreadsheet Interface\n",
      "\n",
      "## Open Data Science Initiative\n",
      "\n",
      "### 14th August 2014 Neil Lawrence\n",
      "\n",
      "As part of the distribution of information to area chairs in NIPS 2014 we used Google docs to provide summary spreadsheets. Review information is processed in `pandas` so this rough interface is designed to allow uploading and downloading of information from google spreadsheets as pandas data frames."
     ]
    },
    {
     "cell_type": "code",
     "collapsed": false,
     "input": [
      "import pods.google\n",
      "import pandas as pd"
     ],
     "language": "python",
     "metadata": {},
     "outputs": [],
     "prompt_number": 1
    },
    {
     "cell_type": "markdown",
     "metadata": {},
     "source": [
      "First let's create a simple data frame for placing in a spreadsheet."
     ]
    },
    {
     "cell_type": "code",
     "collapsed": false,
     "input": [
      "d = {'one' : pd.Series([1., 2., 3.], index=['a', 'b', 'c']),\n",
      "    'two' : pd.Series([1., 2., 3., 4.], index=['a', 'b', 'c', 'd'])} \n",
      "\n",
      "df = pd.DataFrame(d)"
     ],
     "language": "python",
     "metadata": {},
     "outputs": [],
     "prompt_number": 2
    },
    {
     "cell_type": "code",
     "collapsed": false,
     "input": [
      "df"
     ],
     "language": "python",
     "metadata": {},
     "outputs": [
      {
       "html": [
        "<div style=\"max-height:1000px;max-width:1500px;overflow:auto;\">\n",
        "<table border=\"1\" class=\"dataframe\">\n",
        "  <thead>\n",
        "    <tr style=\"text-align: right;\">\n",
        "      <th></th>\n",
        "      <th>one</th>\n",
        "      <th>two</th>\n",
        "    </tr>\n",
        "  </thead>\n",
        "  <tbody>\n",
        "    <tr>\n",
        "      <th>a</th>\n",
        "      <td>  1</td>\n",
        "      <td> 1</td>\n",
        "    </tr>\n",
        "    <tr>\n",
        "      <th>b</th>\n",
        "      <td>  2</td>\n",
        "      <td> 2</td>\n",
        "    </tr>\n",
        "    <tr>\n",
        "      <th>c</th>\n",
        "      <td>  3</td>\n",
        "      <td> 3</td>\n",
        "    </tr>\n",
        "    <tr>\n",
        "      <th>d</th>\n",
        "      <td>NaN</td>\n",
        "      <td> 4</td>\n",
        "    </tr>\n",
        "  </tbody>\n",
        "</table>\n",
        "</div>"
       ],
       "metadata": {},
       "output_type": "pyout",
       "prompt_number": 3,
       "text": [
        "   one  two\n",
        "a    1    1\n",
        "b    2    2\n",
        "c    3    3\n",
        "d  NaN    4"
       ]
      }
     ],
     "prompt_number": 3
    },
    {
     "cell_type": "markdown",
     "metadata": {},
     "source": [
      "Now we create the google document and write our data frame, `df`, to the spreadsheet."
     ]
    },
    {
     "cell_type": "code",
     "collapsed": false,
     "input": [
      "sheet = pods.google.sheet()\n",
      "sheet.write(df)"
     ],
     "language": "python",
     "metadata": {},
     "outputs": [
      {
       "ename": "NameError",
       "evalue": "name 'df' is not defined",
       "output_type": "pyerr",
       "traceback": [
        "\u001b[0;31m---------------------------------------------------------------------------\u001b[0m\n\u001b[0;31mNameError\u001b[0m                                 Traceback (most recent call last)",
        "\u001b[0;32m<ipython-input-2-7a35b88a5645>\u001b[0m in \u001b[0;36m<module>\u001b[0;34m()\u001b[0m\n\u001b[1;32m      1\u001b[0m \u001b[0msheet\u001b[0m \u001b[0;34m=\u001b[0m \u001b[0mpods\u001b[0m\u001b[0;34m.\u001b[0m\u001b[0mgoogle\u001b[0m\u001b[0;34m.\u001b[0m\u001b[0msheet\u001b[0m\u001b[0;34m(\u001b[0m\u001b[0;34m)\u001b[0m\u001b[0;34m\u001b[0m\u001b[0m\n\u001b[0;32m----> 2\u001b[0;31m \u001b[0msheet\u001b[0m\u001b[0;34m.\u001b[0m\u001b[0mwrite\u001b[0m\u001b[0;34m(\u001b[0m\u001b[0mdf\u001b[0m\u001b[0;34m)\u001b[0m\u001b[0;34m\u001b[0m\u001b[0m\n\u001b[0m",
        "\u001b[0;31mNameError\u001b[0m: name 'df' is not defined"
       ]
      }
     ],
     "prompt_number": 2
    },
    {
     "cell_type": "markdown",
     "metadata": {},
     "source": [
      "The spreadsheet is uniquely defined by a key, which can be recovered from the spreadsheet as follows:"
     ]
    },
    {
     "cell_type": "code",
     "collapsed": false,
     "input": [
      "print sheet._key"
     ],
     "language": "python",
     "metadata": {},
     "outputs": [
      {
       "output_type": "stream",
       "stream": "stdout",
       "text": [
        "1yi4oAht_SV0aGS1udB-g_NTJxsX2zKIxQDcT5L3QQWE\n"
       ]
      }
     ],
     "prompt_number": 5
    },
    {
     "cell_type": "markdown",
     "metadata": {},
     "source": [
      "The spreadsheet can be shared (by default with 'edit' access) to other gmail users."
     ]
    },
    {
     "cell_type": "code",
     "collapsed": false,
     "input": [
      "sheet.share(['N.Lawrence@sheffield.ac.uk'])"
     ],
     "language": "python",
     "metadata": {},
     "outputs": [],
     "prompt_number": 6
    },
    {
     "cell_type": "markdown",
     "metadata": {},
     "source": [
      "To share with 'view' access you pass an extra argument, `share_type='reader'`. You can also send a notification (by default there is no mail sent)."
     ]
    },
    {
     "cell_type": "code",
     "collapsed": false,
     "input": [
      "sheet.share(['lawrennd@gmail.com'],share_type='reader',send_notifications=True)"
     ],
     "language": "python",
     "metadata": {},
     "outputs": [],
     "prompt_number": 6
    },
    {
     "cell_type": "markdown",
     "metadata": {},
     "source": [
      "Now, for demonstration pruposes, here's the key of 'one we made earlier'. You can open an existing spreadsheet by providing the key as follows"
     ]
    },
    {
     "cell_type": "code",
     "collapsed": false,
     "input": [
      "sheet = pods.google.sheet(spreadsheet_key='1kWBLPFhGt8PbbVGq_cSxfUAsBUjiA7OS3T_R7OHk0hk')"
     ],
     "language": "python",
     "metadata": {},
     "outputs": [],
     "prompt_number": 3
    },
    {
     "cell_type": "markdown",
     "metadata": {},
     "source": [
      "For this google doc, now it's created we've published it to the web. Quoting from [the developer's site](https://developers.google.com/google-apps/spreadsheets/)\n",
      "\n",
      "\"Publishing a spreadsheet to the web can only be done from the Google Spreadsheets user interface. To start publishing a spreadsheet to the web, select File > Publish to the web from the Spreadsheets user interface, and then click the Start Publishing button.\"\n",
      "\n",
      "Once the spreadsheet is published you can have people viewing it publicly as follows."
     ]
    },
    {
     "cell_type": "code",
     "collapsed": false,
     "input": [
      "acl_feed = sheet.share_modify('lawrennd@gmail.com', 'writer')"
     ],
     "language": "python",
     "metadata": {},
     "outputs": [
      {
       "ename": "AttributeError",
       "evalue": "'AclEntry' object has no attribute 'query'",
       "output_type": "pyerr",
       "traceback": [
        "\u001b[0;31m---------------------------------------------------------------------------\u001b[0m\n\u001b[0;31mAttributeError\u001b[0m                            Traceback (most recent call last)",
        "\u001b[0;32m<ipython-input-3-01d49f488e30>\u001b[0m in \u001b[0;36m<module>\u001b[0;34m()\u001b[0m\n\u001b[0;32m----> 1\u001b[0;31m \u001b[0macl_feed\u001b[0m \u001b[0;34m=\u001b[0m \u001b[0msheet\u001b[0m\u001b[0;34m.\u001b[0m\u001b[0mshare_modify\u001b[0m\u001b[0;34m(\u001b[0m\u001b[0;34m'lawrennd@gmail.com'\u001b[0m\u001b[0;34m,\u001b[0m \u001b[0;34m'writer'\u001b[0m\u001b[0;34m)\u001b[0m\u001b[0;34m\u001b[0m\u001b[0m\n\u001b[0m",
        "\u001b[0;32m/Users/neil/sods/ods/pods/google.py\u001b[0m in \u001b[0;36mshare_modify\u001b[0;34m(self, user, share_type, send_notifications)\u001b[0m\n\u001b[1;32m    132\u001b[0m         return self.docs_client.Put(\n\u001b[1;32m    133\u001b[0m             \u001b[0macl_entry\u001b[0m\u001b[0;34m,\u001b[0m \u001b[0macl_entry\u001b[0m\u001b[0;34m.\u001b[0m\u001b[0mGetEditLink\u001b[0m\u001b[0;34m(\u001b[0m\u001b[0;34m)\u001b[0m\u001b[0;34m.\u001b[0m\u001b[0mhref\u001b[0m\u001b[0;34m,\u001b[0m\u001b[0;34m\u001b[0m\u001b[0m\n\u001b[0;32m--> 134\u001b[0;31m             converter=gdata.docs.DocumentListAclEntryFromString)        \n\u001b[0m\u001b[1;32m    135\u001b[0m         \u001b[0;31m#acl_entry.role.value = share_type\u001b[0m\u001b[0;34m\u001b[0m\u001b[0;34m\u001b[0m\u001b[0m\n\u001b[1;32m    136\u001b[0m         \u001b[0;31m# According to Ali Afshar you need to remove the etag (https://groups.google.com/forum/#!msg/google-documents-list-api/eFSmo14nDLA/Oo4SjePHZd8J)\u001b[0m\u001b[0;34m\u001b[0m\u001b[0;34m\u001b[0m\u001b[0m\n",
        "\u001b[0;32m/Users/neil/Library/Enthought/Canopy_64bit/User/lib/python2.7/site-packages/atom/client.pyc\u001b[0m in \u001b[0;36mput\u001b[0;34m(self, uri, data, auth_token, http_request, **kwargs)\u001b[0m\n\u001b[1;32m    143\u001b[0m     \u001b[0;34m\"\"\"Sends data using the PUT method, returns an HTTP response.\"\"\"\u001b[0m\u001b[0;34m\u001b[0m\u001b[0m\n\u001b[1;32m    144\u001b[0m     return self.request(method='PUT', uri=uri, auth_token=auth_token,\n\u001b[0;32m--> 145\u001b[0;31m                         http_request=http_request, data=data, **kwargs)\n\u001b[0m\u001b[1;32m    146\u001b[0m \u001b[0;34m\u001b[0m\u001b[0m\n\u001b[1;32m    147\u001b[0m   \u001b[0mPut\u001b[0m \u001b[0;34m=\u001b[0m \u001b[0mput\u001b[0m\u001b[0;34m\u001b[0m\u001b[0m\n",
        "\u001b[0;32m/Users/neil/Library/Enthought/Canopy_64bit/User/lib/python2.7/site-packages/gdata/docs/client.pyc\u001b[0m in \u001b[0;36mrequest\u001b[0;34m(self, method, uri, **kwargs)\u001b[0m\n\u001b[1;32m     64\u001b[0m         \u001b[0muri\u001b[0m \u001b[0;34m=\u001b[0m \u001b[0matom\u001b[0m\u001b[0;34m.\u001b[0m\u001b[0mhttp_core\u001b[0m\u001b[0;34m.\u001b[0m\u001b[0mUri\u001b[0m\u001b[0;34m.\u001b[0m\u001b[0mparse_uri\u001b[0m\u001b[0;34m(\u001b[0m\u001b[0muri\u001b[0m\u001b[0;34m)\u001b[0m\u001b[0;34m\u001b[0m\u001b[0m\n\u001b[1;32m     65\u001b[0m       \u001b[0muri\u001b[0m\u001b[0;34m.\u001b[0m\u001b[0mpath\u001b[0m\u001b[0;34m.\u001b[0m\u001b[0mreplace\u001b[0m\u001b[0;34m(\u001b[0m\u001b[0;34m'/default'\u001b[0m\u001b[0;34m,\u001b[0m \u001b[0;34m'/%s'\u001b[0m \u001b[0;34m%\u001b[0m \u001b[0mself\u001b[0m\u001b[0;34m.\u001b[0m\u001b[0mxoauth_requestor_id\u001b[0m\u001b[0;34m)\u001b[0m\u001b[0;34m\u001b[0m\u001b[0m\n\u001b[0;32m---> 66\u001b[0;31m     \u001b[0;32mreturn\u001b[0m \u001b[0msuper\u001b[0m\u001b[0;34m(\u001b[0m\u001b[0mDocsClient\u001b[0m\u001b[0;34m,\u001b[0m \u001b[0mself\u001b[0m\u001b[0;34m)\u001b[0m\u001b[0;34m.\u001b[0m\u001b[0mrequest\u001b[0m\u001b[0;34m(\u001b[0m\u001b[0mmethod\u001b[0m\u001b[0;34m=\u001b[0m\u001b[0mmethod\u001b[0m\u001b[0;34m,\u001b[0m \u001b[0muri\u001b[0m\u001b[0;34m=\u001b[0m\u001b[0muri\u001b[0m\u001b[0;34m,\u001b[0m \u001b[0;34m**\u001b[0m\u001b[0mkwargs\u001b[0m\u001b[0;34m)\u001b[0m\u001b[0;34m\u001b[0m\u001b[0m\n\u001b[0m\u001b[1;32m     67\u001b[0m \u001b[0;34m\u001b[0m\u001b[0m\n\u001b[1;32m     68\u001b[0m   \u001b[0mRequest\u001b[0m \u001b[0;34m=\u001b[0m \u001b[0mrequest\u001b[0m\u001b[0;34m\u001b[0m\u001b[0m\n",
        "\u001b[0;32m/Users/neil/Library/Enthought/Canopy_64bit/User/lib/python2.7/site-packages/gdata/client.pyc\u001b[0m in \u001b[0;36mrequest\u001b[0;34m(self, method, uri, auth_token, http_request, converter, desired_class, redirects_remaining, **kwargs)\u001b[0m\n\u001b[1;32m    248\u001b[0m     \u001b[0;31m# multitude of redirects and session ID shuffling.\u001b[0m\u001b[0;34m\u001b[0m\u001b[0;34m\u001b[0m\u001b[0m\n\u001b[1;32m    249\u001b[0m     \u001b[0;31m# If the gsession ID is in the URL, adopt it as the standard location.\u001b[0m\u001b[0;34m\u001b[0m\u001b[0;34m\u001b[0m\u001b[0m\n\u001b[0;32m--> 250\u001b[0;31m     \u001b[0;32mif\u001b[0m \u001b[0muri\u001b[0m \u001b[0;32mis\u001b[0m \u001b[0;32mnot\u001b[0m \u001b[0mNone\u001b[0m \u001b[0;32mand\u001b[0m \u001b[0muri\u001b[0m\u001b[0;34m.\u001b[0m\u001b[0mquery\u001b[0m \u001b[0;32mis\u001b[0m \u001b[0;32mnot\u001b[0m \u001b[0mNone\u001b[0m \u001b[0;32mand\u001b[0m \u001b[0;34m'gsessionid'\u001b[0m \u001b[0;32min\u001b[0m \u001b[0muri\u001b[0m\u001b[0;34m.\u001b[0m\u001b[0mquery\u001b[0m\u001b[0;34m:\u001b[0m\u001b[0;34m\u001b[0m\u001b[0m\n\u001b[0m\u001b[1;32m    251\u001b[0m       \u001b[0mself\u001b[0m\u001b[0;34m.\u001b[0m\u001b[0m__gsessionid\u001b[0m \u001b[0;34m=\u001b[0m \u001b[0muri\u001b[0m\u001b[0;34m.\u001b[0m\u001b[0mquery\u001b[0m\u001b[0;34m[\u001b[0m\u001b[0;34m'gsessionid'\u001b[0m\u001b[0;34m]\u001b[0m\u001b[0;34m\u001b[0m\u001b[0m\n\u001b[1;32m    252\u001b[0m     \u001b[0;31m# The gsession ID could also be in the HTTP request.\u001b[0m\u001b[0;34m\u001b[0m\u001b[0;34m\u001b[0m\u001b[0m\n",
        "\u001b[0;31mAttributeError\u001b[0m: 'AclEntry' object has no attribute 'query'"
       ]
      }
     ],
     "prompt_number": 3
    },
    {
     "cell_type": "code",
     "collapsed": false,
     "input": [
      "%debug"
     ],
     "language": "python",
     "metadata": {},
     "outputs": [
      {
       "output_type": "stream",
       "stream": "stdout",
       "text": [
        "> \u001b[0;32m/Users/neil/sods/ods/pods/google.py\u001b[0m(132)\u001b[0;36mshare_modify\u001b[0;34m()\u001b[0m\n",
        "\u001b[0;32m    131 \u001b[0;31m        \u001b[0;31m# According to Ali Afshar you need to remove the etag (https://groups.google.com/forum/#!msg/google-documents-list-api/eFSmo14nDLA/Oo4SjePHZd8J)\u001b[0m\u001b[0;34m\u001b[0m\u001b[0;34m\u001b[0m\u001b[0m\n",
        "\u001b[0m\u001b[0;32m--> 132 \u001b[0;31m        \u001b[0metag_element\u001b[0m \u001b[0;34m=\u001b[0m \u001b[0macl_entry\u001b[0m\u001b[0;34m.\u001b[0m\u001b[0mfind\u001b[0m\u001b[0;34m(\u001b[0m\u001b[0;34m'etag'\u001b[0m\u001b[0;34m)\u001b[0m\u001b[0;34m\u001b[0m\u001b[0m\n",
        "\u001b[0m\u001b[0;32m    133 \u001b[0;31m        \u001b[0macl_entry\u001b[0m\u001b[0;34m.\u001b[0m\u001b[0mremove\u001b[0m\u001b[0;34m(\u001b[0m\u001b[0metagelement\u001b[0m\u001b[0;34m)\u001b[0m\u001b[0;34m\u001b[0m\u001b[0m\n",
        "\u001b[0m\n"
       ]
      },
      {
       "name": "stdout",
       "output_type": "stream",
       "stream": "stdout",
       "text": [
        "ipdb> acl_entry\n"
       ]
      },
      {
       "output_type": "stream",
       "stream": "stdout",
       "text": [
        "<gdata.docs.data.AclEntry object at 0x10d94ce50>\n"
       ]
      }
     ]
    },
    {
     "cell_type": "code",
     "collapsed": false,
     "input": [
      "sheet.share_delete('lawrennd@gmail.com')"
     ],
     "language": "python",
     "metadata": {},
     "outputs": [
      {
       "metadata": {},
       "output_type": "pyout",
       "prompt_number": 5,
       "text": [
        "<httplib.HTTPResponse instance at 0x10d9f6f38>"
       ]
      }
     ],
     "prompt_number": 5
    },
    {
     "cell_type": "code",
     "collapsed": false,
     "input": [
      "sheet.share(['lawrennd@gmail.com'])"
     ],
     "language": "python",
     "metadata": {},
     "outputs": [],
     "prompt_number": 7
    },
    {
     "cell_type": "code",
     "collapsed": false,
     "input": [
      "sheet.share_list()"
     ],
     "language": "python",
     "metadata": {},
     "outputs": [
      {
       "metadata": {},
       "output_type": "pyout",
       "prompt_number": 7,
       "text": [
        "[('nips2014python@gmail.com', 'owner'),\n",
        " ('n.lawrence@sheffield.ac.uk', 'writer'),\n",
        " ('lawrennd@gmail.com', 'reader')]"
       ]
      }
     ],
     "prompt_number": 7
    },
    {
     "cell_type": "code",
     "collapsed": false,
     "input": [
      "sheet.revision_history()"
     ],
     "language": "python",
     "metadata": {},
     "outputs": [
      {
       "output_type": "stream",
       "stream": "stdout",
       "text": [
        "None None\n",
        "None None\n",
        "None None\n",
        "<ns0:publish xmlns:ns0=\"http://schemas.google.com/docs/2007\" value=\"true\" /> <ns0:link xmlns:ns0=\"http://www.w3.org/2005/Atom\" href=\"https://docs.google.com/feeds\" rel=\"http://schemas.google.com/docs/2007#publish\" type=\"text/html\" />\n",
        "None"
       ]
      },
      {
       "output_type": "stream",
       "stream": "stdout",
       "text": [
        " None\n",
        "None"
       ]
      },
      {
       "output_type": "stream",
       "stream": "stdout",
       "text": [
        " None\n",
        "None"
       ]
      },
      {
       "output_type": "stream",
       "stream": "stdout",
       "text": [
        " None\n",
        "None None\n",
        "None None\n",
        "None None\n",
        "None None\n",
        "None None\n",
        "None None\n",
        "None None\n",
        "None None\n",
        "None None\n",
        "None None\n",
        "None None\n",
        "None None\n",
        "None None\n",
        "None None\n",
        "None None\n",
        "None None\n",
        "None None\n",
        "None None\n",
        "None None\n",
        "None None\n",
        "None None\n",
        "None None\n",
        "None"
       ]
      },
      {
       "output_type": "stream",
       "stream": "stdout",
       "text": [
        " None\n",
        "None None\n",
        "None None\n",
        "None None\n",
        "None None\n",
        "None None\n",
        "None None\n",
        "None None\n",
        "None None\n",
        "None None\n",
        "None None\n",
        "None None\n",
        "None None\n",
        "None None\n",
        "None None\n",
        "None None\n",
        "None None\n",
        "None None\n",
        "None None\n",
        "None None\n",
        "None"
       ]
      },
      {
       "output_type": "stream",
       "stream": "stdout",
       "text": [
        " None\n",
        "None None\n",
        "None None\n",
        "None None\n",
        "None None\n",
        "None None\n",
        "None None\n",
        "None None\n",
        "None None\n",
        "None None\n",
        "None None\n",
        "None None\n",
        "None None\n",
        "None None\n",
        "None None\n",
        "None None\n",
        "None None\n",
        "None None\n",
        "None None\n",
        "None None\n",
        "None"
       ]
      },
      {
       "output_type": "stream",
       "stream": "stdout",
       "text": [
        " None\n",
        "None None\n",
        "None None\n",
        "None None\n",
        "None None\n",
        "None None\n",
        "None None\n",
        "None None\n",
        "None None\n",
        "None None\n",
        "None None\n",
        "None None\n",
        "None None\n",
        "None None\n",
        "None None\n",
        "None None\n",
        "None None\n",
        "None None\n",
        "None None\n",
        "None None\n",
        "None None\n",
        "None"
       ]
      },
      {
       "output_type": "stream",
       "stream": "stdout",
       "text": [
        " None\n",
        "None None\n",
        "None None\n",
        "None None\n",
        "None None\n",
        "None None\n",
        "None None\n",
        "None None\n",
        "None None\n",
        "None None\n",
        "None None\n",
        "None None\n",
        "None None\n",
        "None None\n",
        "None None\n",
        "None None\n",
        "None None\n",
        "None None\n",
        "None None\n",
        "None None\n",
        "None None\n",
        "None None\n",
        "None"
       ]
      },
      {
       "output_type": "stream",
       "stream": "stdout",
       "text": [
        " None\n",
        "None None\n",
        "None None\n",
        "None None\n",
        "None None\n",
        "None None\n",
        "None None\n",
        "None None\n",
        "None None\n",
        "None None\n",
        "None None\n",
        "None None\n",
        "None None\n",
        "None None\n",
        "None None\n",
        "None None\n",
        "None None\n",
        "None None\n",
        "None None\n",
        "None None\n",
        "None None\n",
        "None None\n",
        "None None\n",
        "None None\n",
        "None None\n",
        "None"
       ]
      },
      {
       "output_type": "stream",
       "stream": "stdout",
       "text": [
        " None\n",
        "None None\n",
        "None None\n",
        "None None\n",
        "None None\n",
        "None None\n",
        "None None\n",
        "None None\n",
        "None None\n",
        "None None\n",
        "None None\n",
        "None None\n",
        "None None\n",
        "None None\n",
        "None None\n",
        "None None\n",
        "None None\n",
        "None None\n",
        "None None\n",
        "None None\n",
        "None None\n",
        "None None\n",
        "None None\n",
        "None"
       ]
      },
      {
       "output_type": "stream",
       "stream": "stdout",
       "text": [
        " None\n",
        "None None\n",
        "None None\n",
        "None None\n",
        "None None\n",
        "None None\n",
        "None None\n",
        "None None\n",
        "None None\n",
        "None None\n",
        "None None\n",
        "None None\n",
        "None None\n",
        "None None\n",
        "None None\n",
        "None None\n",
        "None None\n",
        "None None\n",
        "None None\n",
        "None None\n",
        "None None\n",
        "None None\n",
        "None None\n",
        "None None\n",
        "None None\n",
        "None None\n",
        "None None\n",
        "None None\n",
        "None None\n",
        "None"
       ]
      },
      {
       "output_type": "stream",
       "stream": "stdout",
       "text": [
        " None\n",
        "None None\n",
        "None None\n",
        "None None\n",
        "None None\n",
        "None None\n",
        "None None\n",
        "None None\n",
        "None None\n",
        "None None\n",
        "None None\n",
        "None None\n",
        "None None\n",
        "None None\n",
        "None None\n",
        "None None\n",
        "None None\n",
        "None None\n",
        "None None\n",
        "None None\n",
        "None None\n",
        "None"
       ]
      },
      {
       "output_type": "stream",
       "stream": "stdout",
       "text": [
        " None\n",
        "None None\n",
        "None None\n",
        "None None\n",
        "None None\n",
        "None None\n",
        "None None\n",
        "None None\n",
        "None None\n",
        "None None\n",
        "None None\n",
        "None None\n",
        "None None\n",
        "None None\n",
        "None None\n",
        "None None\n",
        "None None\n",
        "None None\n",
        "None None\n",
        "None None\n",
        "None None\n",
        "None None\n",
        "None None\n",
        "None None\n",
        "None None\n",
        "None None\n",
        "None None\n",
        "None None\n",
        "None None\n",
        "None None\n",
        "None None\n",
        "None"
       ]
      },
      {
       "output_type": "stream",
       "stream": "stdout",
       "text": [
        " None\n",
        "None None\n",
        "None None\n",
        "None None\n",
        "None None\n",
        "None None\n",
        "None None\n",
        "None None\n",
        "None None\n",
        "None None\n",
        "None None\n",
        "None None\n",
        "None None\n",
        "None None\n",
        "None None\n",
        "None None\n",
        "None None\n",
        "None None\n",
        "None None\n",
        "None None\n",
        "None None\n",
        "None None\n",
        "None None\n",
        "None None\n",
        "None None\n",
        "None None\n",
        "None None\n",
        "None"
       ]
      },
      {
       "output_type": "stream",
       "stream": "stdout",
       "text": [
        " None\n",
        "None None\n",
        "None None\n",
        "None None\n",
        "None None\n",
        "None None\n",
        "None None\n",
        "None None\n",
        "None None\n",
        "None None\n",
        "None None\n",
        "None None\n",
        "None None\n",
        "None None\n",
        "None None\n",
        "None None\n",
        "None None\n",
        "None None\n",
        "None None\n",
        "None None\n",
        "None None\n",
        "None"
       ]
      },
      {
       "output_type": "stream",
       "stream": "stdout",
       "text": [
        " None\n",
        "None None\n",
        "None None\n",
        "None None\n",
        "None None\n",
        "None None\n",
        "None None\n",
        "None None\n",
        "None None\n",
        "None None\n",
        "None None\n",
        "None None\n",
        "None None\n",
        "None None\n",
        "None None\n",
        "None None\n",
        "None None\n",
        "None None\n",
        "None None\n",
        "None"
       ]
      },
      {
       "output_type": "stream",
       "stream": "stdout",
       "text": [
        " None\n",
        "None None\n",
        "None None\n",
        "None None\n",
        "None None\n",
        "None None\n",
        "None None\n",
        "None None\n",
        "None None\n",
        "None None\n",
        "None None\n",
        "None None\n",
        "None None\n",
        "None None\n",
        "None None\n",
        "None None\n",
        "None None\n",
        "None None\n",
        "None None\n",
        "None None\n",
        "None None\n",
        "None None\n",
        "None None\n",
        "None None\n",
        "None None\n",
        "None None\n",
        "None"
       ]
      },
      {
       "output_type": "stream",
       "stream": "stdout",
       "text": [
        " None\n",
        "None None\n",
        "None None\n",
        "None None\n",
        "None None\n",
        "None None\n",
        "None None\n",
        "None None\n",
        "None None\n",
        "None None\n",
        "None None\n",
        "None None\n",
        "None None\n",
        "None None\n",
        "None None\n",
        "None None\n",
        "None None\n",
        "None None\n",
        "None None\n",
        "None None\n",
        "None"
       ]
      },
      {
       "output_type": "stream",
       "stream": "stdout",
       "text": [
        " None\n",
        "None None\n",
        "None None\n",
        "None None\n",
        "None None\n",
        "None None\n",
        "None None\n",
        "None None\n",
        "None None\n",
        "None None\n",
        "None None\n",
        "None None\n",
        "None None\n",
        "None None\n",
        "None None\n",
        "None None\n",
        "None None\n",
        "None None\n",
        "None None\n",
        "None None\n",
        "None None\n",
        "None None\n",
        "None"
       ]
      },
      {
       "output_type": "stream",
       "stream": "stdout",
       "text": [
        " None\n",
        "None None\n",
        "None None\n",
        "None None\n",
        "None None\n",
        "None None\n",
        "None None\n",
        "None None\n",
        "None None\n",
        "None None\n",
        "None None\n",
        "None None\n",
        "None None\n",
        "None None\n",
        "None None\n",
        "None None\n",
        "None None\n",
        "None None\n",
        "None None\n",
        "None None\n",
        "None None\n",
        "None"
       ]
      },
      {
       "output_type": "stream",
       "stream": "stdout",
       "text": [
        " None\n",
        "None None\n",
        "None None\n",
        "None None\n",
        "None None\n",
        "None None\n",
        "None None\n",
        "None None\n",
        "None None\n",
        "None None\n",
        "None None\n",
        "None None\n",
        "None None\n",
        "None None\n",
        "None None\n",
        "None None\n",
        "None None\n",
        "None None\n",
        "None None\n",
        "None None\n",
        "None None\n",
        "None None\n",
        "None"
       ]
      },
      {
       "output_type": "stream",
       "stream": "stdout",
       "text": [
        " None\n",
        "None None\n",
        "None None\n",
        "None None\n",
        "None None\n",
        "None None\n",
        "None None\n",
        "None None\n",
        "None None\n",
        "None None\n",
        "None None\n",
        "None None\n",
        "None None\n",
        "None None\n",
        "None None\n",
        "None None\n",
        "None None\n",
        "None None\n",
        "None None\n",
        "None None\n",
        "None None\n",
        "None"
       ]
      },
      {
       "output_type": "stream",
       "stream": "stdout",
       "text": [
        " None\n",
        "None None\n",
        "None None\n",
        "None None\n",
        "None None\n",
        "None None\n",
        "None None\n",
        "None None\n",
        "None None\n",
        "None None\n",
        "None None\n",
        "None None\n",
        "None None\n",
        "None None\n",
        "None None\n",
        "None None\n",
        "None None\n",
        "None None\n",
        "None None\n",
        "None"
       ]
      },
      {
       "output_type": "stream",
       "stream": "stdout",
       "text": [
        " None\n",
        "None None\n",
        "None None\n",
        "None None\n",
        "None None\n",
        "None None\n",
        "None None\n",
        "None None\n",
        "None None\n",
        "None None\n",
        "None None\n",
        "None None\n",
        "None None\n",
        "None None\n",
        "None None\n",
        "None None\n",
        "None None\n",
        "None None\n",
        "None None\n",
        "None None\n",
        "None None\n",
        "None"
       ]
      },
      {
       "output_type": "stream",
       "stream": "stdout",
       "text": [
        " None\n",
        "None None\n",
        "None None\n",
        "None None\n",
        "None None\n",
        "None None\n",
        "None None\n",
        "None None\n",
        "None None\n",
        "None None\n",
        "None None\n",
        "None None\n",
        "None None\n",
        "None None\n",
        "None None\n",
        "None None\n",
        "None None\n",
        "None None\n",
        "None None\n",
        "None None\n",
        "None None\n",
        "None None\n",
        "None None\n",
        "None None\n",
        "None"
       ]
      },
      {
       "output_type": "stream",
       "stream": "stdout",
       "text": [
        " None\n",
        "None None\n",
        "None None\n",
        "None None\n",
        "None None\n",
        "None None\n",
        "None None\n",
        "None None\n",
        "None None\n",
        "None None\n",
        "None None\n",
        "None None\n",
        "None None\n",
        "None None\n",
        "None None\n",
        "None None\n",
        "None None\n",
        "None None\n",
        "None None\n",
        "None None\n",
        "None None\n",
        "None"
       ]
      },
      {
       "output_type": "stream",
       "stream": "stdout",
       "text": [
        " None\n",
        "None None\n",
        "None None\n",
        "None None\n",
        "None None\n",
        "None None\n",
        "None None\n",
        "None None\n",
        "None None\n",
        "None None\n",
        "None None\n",
        "None None\n",
        "None None\n",
        "None None\n",
        "None None\n",
        "None None\n",
        "None None\n",
        "None None\n",
        "None None\n",
        "None None\n",
        "None None\n",
        "None None\n",
        "None None\n",
        "None None\n",
        "None None\n",
        "None None\n",
        "None None\n",
        "None"
       ]
      },
      {
       "output_type": "stream",
       "stream": "stdout",
       "text": [
        " None\n",
        "None None\n",
        "None None\n",
        "None None\n",
        "None None\n",
        "None None\n",
        "None None\n",
        "None None\n",
        "None None\n",
        "None None\n",
        "None None\n",
        "None None\n",
        "None None\n",
        "None None\n",
        "None None\n",
        "None None\n",
        "None None\n",
        "None None\n",
        "None None\n",
        "None None\n",
        "None None\n",
        "None None\n",
        "None"
       ]
      },
      {
       "output_type": "stream",
       "stream": "stdout",
       "text": [
        " None\n",
        "None None\n",
        "None None\n",
        "None None\n",
        "None None\n",
        "None None\n",
        "None None\n",
        "None None\n",
        "None None\n",
        "None None\n",
        "None None\n",
        "None None\n",
        "None None\n",
        "None None\n",
        "None None\n",
        "None None\n",
        "None None\n",
        "None None\n",
        "None None\n",
        "None None\n",
        "None"
       ]
      },
      {
       "output_type": "stream",
       "stream": "stdout",
       "text": [
        " None\n",
        "None None\n",
        "None None\n",
        "None None\n",
        "None None\n",
        "None None\n",
        "None None\n",
        "None None\n",
        "None None\n",
        "None None\n",
        "None None\n",
        "None None\n",
        "None None\n",
        "None None\n",
        "None None\n",
        "None None\n",
        "None None\n",
        "None None\n",
        "None None\n",
        "None None\n",
        "None None\n",
        "None None\n",
        "None None\n",
        "None"
       ]
      },
      {
       "output_type": "stream",
       "stream": "stdout",
       "text": [
        " None\n",
        "None None\n",
        "None None\n",
        "None None\n",
        "None None\n",
        "None None\n",
        "None None\n",
        "None None\n",
        "None None\n",
        "None None\n",
        "None None\n",
        "None None\n",
        "None None\n",
        "None None\n",
        "None None\n",
        "None None\n",
        "None None\n",
        "None None\n",
        "None None\n",
        "None None\n",
        "None None\n",
        "None None\n",
        "None"
       ]
      },
      {
       "output_type": "stream",
       "stream": "stdout",
       "text": [
        " None\n",
        "None None\n",
        "None None\n",
        "None None\n",
        "None None\n",
        "None None\n",
        "None None\n",
        "None None\n",
        "None None\n",
        "None None\n",
        "None None\n",
        "None None\n",
        "None None\n",
        "None None\n",
        "None None\n",
        "None None\n",
        "None None\n",
        "None None\n",
        "None None\n",
        "None None\n",
        "None"
       ]
      },
      {
       "output_type": "stream",
       "stream": "stdout",
       "text": [
        " None\n",
        "None None\n",
        "None None\n",
        "None None\n",
        "None None\n",
        "None None\n",
        "None None\n",
        "None None\n",
        "None None\n",
        "None None\n",
        "None None\n",
        "None None\n",
        "None None\n",
        "None None\n",
        "None None\n",
        "None None\n",
        "None None\n",
        "None None\n",
        "None None\n",
        "None None\n",
        "None None\n",
        "None"
       ]
      },
      {
       "output_type": "stream",
       "stream": "stdout",
       "text": [
        " None\n",
        "None None\n",
        "None None\n",
        "None None\n",
        "None None\n",
        "None None\n",
        "None None\n",
        "None None\n",
        "None None\n",
        "None None\n",
        "None None\n",
        "None None\n",
        "None None\n",
        "None None\n",
        "None None\n",
        "None None\n",
        "None None\n",
        "None None\n",
        "None None\n",
        "None None\n",
        "None None\n",
        "None"
       ]
      },
      {
       "output_type": "stream",
       "stream": "stdout",
       "text": [
        " None\n",
        "None None\n",
        "None None\n",
        "None None\n",
        "None None\n",
        "None None\n",
        "None None\n",
        "None None\n",
        "None None\n",
        "None None\n",
        "None None\n",
        "None None\n",
        "None None\n",
        "None None\n",
        "None None\n",
        "None None\n",
        "None None\n",
        "None None\n",
        "None None\n",
        "None"
       ]
      },
      {
       "output_type": "stream",
       "stream": "stdout",
       "text": [
        " None\n",
        "None None\n",
        "None None\n",
        "None None\n",
        "None None\n",
        "None None\n",
        "None None\n",
        "None None\n",
        "None None\n",
        "None None\n",
        "None None\n",
        "None None\n",
        "None None\n",
        "None None\n",
        "None None\n",
        "None None\n",
        "None None\n",
        "None None\n",
        "None None\n",
        "None None\n",
        "None"
       ]
      },
      {
       "output_type": "stream",
       "stream": "stdout",
       "text": [
        " None\n",
        "None None\n",
        "None None\n",
        "None None\n",
        "None None\n",
        "None None\n",
        "None None\n",
        "None None\n",
        "None None\n",
        "None None\n",
        "None None\n",
        "None None\n",
        "None None\n",
        "None None\n",
        "None None\n",
        "None None\n",
        "None None\n",
        "None None\n",
        "None None\n",
        "None None\n",
        "None None\n",
        "None None\n",
        "None"
       ]
      },
      {
       "output_type": "stream",
       "stream": "stdout",
       "text": [
        " None\n",
        "None None\n",
        "None None\n",
        "None None\n",
        "None None\n",
        "None None\n",
        "None None\n",
        "None None\n",
        "None None\n",
        "None None\n",
        "None None\n",
        "None None\n",
        "None None\n",
        "None None\n",
        "None None\n",
        "None None\n",
        "None None\n",
        "None None\n",
        "None None\n",
        "None None\n",
        "None"
       ]
      },
      {
       "output_type": "stream",
       "stream": "stdout",
       "text": [
        " None\n",
        "None None\n",
        "None None\n",
        "None None\n",
        "None None\n",
        "None None\n",
        "None None\n",
        "None None\n",
        "None None\n",
        "None None\n",
        "None None\n",
        "None None\n",
        "None None\n",
        "None None\n",
        "None None\n",
        "None None\n",
        "None None\n",
        "None None\n",
        "None None\n",
        "None"
       ]
      },
      {
       "output_type": "stream",
       "stream": "stdout",
       "text": [
        " None\n",
        "None None\n",
        "None None\n",
        "None None\n",
        "None None\n",
        "None None\n",
        "None None\n",
        "None None\n",
        "None None\n",
        "None None\n",
        "None None\n",
        "None None\n",
        "None None\n",
        "None None\n",
        "None None\n",
        "None None\n",
        "None None\n",
        "None None\n",
        "None None\n",
        "None None\n",
        "None None\n",
        "None None\n",
        "None"
       ]
      },
      {
       "output_type": "stream",
       "stream": "stdout",
       "text": [
        " None\n",
        "None None\n",
        "None None\n",
        "None None\n",
        "None None\n",
        "None None\n",
        "None None\n",
        "None None\n",
        "None None\n",
        "None None\n",
        "None None\n",
        "None None\n",
        "None None\n",
        "None None\n",
        "None None\n",
        "None None\n",
        "None None\n",
        "None None\n",
        "None None\n",
        "None None\n",
        "None"
       ]
      },
      {
       "output_type": "stream",
       "stream": "stdout",
       "text": [
        " None\n",
        "None None\n",
        "None None\n",
        "None None\n",
        "None None\n",
        "None None\n",
        "None None\n",
        "None None\n",
        "None None\n",
        "None None\n",
        "None None\n",
        "None None\n",
        "None None\n",
        "None None\n",
        "None None\n",
        "None None\n",
        "None None\n",
        "None None\n",
        "None None\n",
        "None None\n",
        "None"
       ]
      },
      {
       "output_type": "stream",
       "stream": "stdout",
       "text": [
        " None\n",
        "None None\n",
        "None None\n",
        "None None\n",
        "None None\n",
        "None None\n",
        "None None\n",
        "None None\n",
        "None None\n",
        "None None\n",
        "None None\n",
        "None None\n",
        "None None\n",
        "None None\n",
        "None None\n",
        "None None\n",
        "None None\n",
        "None None\n",
        "None None\n",
        "None None\n",
        "None None\n",
        "None"
       ]
      },
      {
       "output_type": "stream",
       "stream": "stdout",
       "text": [
        " None\n",
        "None None\n",
        "None None\n",
        "None None\n",
        "None None\n",
        "None None\n",
        "None None\n",
        "None None\n",
        "None None\n",
        "None None\n",
        "None None\n",
        "None None\n",
        "None None\n",
        "None None\n",
        "None None\n",
        "None None\n",
        "None None\n",
        "None None\n",
        "None None\n",
        "None None\n",
        "None None\n",
        "None"
       ]
      },
      {
       "output_type": "stream",
       "stream": "stdout",
       "text": [
        " None\n",
        "None None\n",
        "None None\n",
        "None None\n",
        "None None\n",
        "None None\n",
        "None None\n",
        "None None\n",
        "None None\n",
        "None None\n",
        "None None\n",
        "None None\n",
        "None None\n",
        "None None\n",
        "None None\n",
        "None None\n",
        "None None\n",
        "None None\n",
        "None None\n",
        "None"
       ]
      },
      {
       "output_type": "stream",
       "stream": "stdout",
       "text": [
        " None\n",
        "None None\n",
        "None None\n",
        "None None\n",
        "None None\n",
        "None None\n",
        "None None\n",
        "None None\n",
        "None None\n",
        "None None\n",
        "None None\n",
        "None None\n",
        "None None\n",
        "None None\n",
        "None None\n",
        "None None\n",
        "None None\n",
        "None None\n",
        "None None\n",
        "None None\n",
        "None None\n",
        "None None\n",
        "None"
       ]
      },
      {
       "output_type": "stream",
       "stream": "stdout",
       "text": [
        " None\n",
        "None None\n",
        "None None\n",
        "None None\n",
        "None None\n",
        "None None\n",
        "None None\n",
        "None None\n",
        "None None\n",
        "None None\n",
        "None None\n",
        "None None\n",
        "None None\n",
        "None None\n",
        "None None\n",
        "None None\n",
        "None None\n",
        "None None\n",
        "None None\n",
        "None None\n",
        "None None\n",
        "None None\n",
        "None None\n",
        "None"
       ]
      },
      {
       "output_type": "stream",
       "stream": "stdout",
       "text": [
        " None\n",
        "None None\n",
        "None None\n",
        "None None\n",
        "None None\n",
        "None None\n",
        "None None\n",
        "None None\n",
        "None None\n",
        "None None\n",
        "None None\n",
        "None None\n",
        "None None\n",
        "None None\n",
        "None None\n",
        "None None\n",
        "None None\n",
        "None None\n",
        "None None\n",
        "None None\n",
        "None None\n",
        "None None\n",
        "None"
       ]
      },
      {
       "output_type": "stream",
       "stream": "stdout",
       "text": [
        " None\n",
        "None None\n",
        "None None\n",
        "None None\n",
        "None None\n",
        "None None\n",
        "None None\n",
        "None None\n",
        "None None\n",
        "None None\n",
        "None None\n",
        "None None\n",
        "None None\n",
        "None None\n",
        "None None\n",
        "None None\n",
        "None None\n",
        "None None\n",
        "None None\n",
        "None None\n",
        "None None\n",
        "None None\n",
        "None None\n",
        "None None\n",
        "None None\n",
        "None None\n",
        "None"
       ]
      },
      {
       "output_type": "stream",
       "stream": "stdout",
       "text": [
        " None\n",
        "None None\n",
        "None None\n",
        "None None\n",
        "None None\n",
        "None None\n",
        "None None\n",
        "None None\n",
        "None None\n",
        "None None\n",
        "None None\n",
        "None None\n",
        "None None\n",
        "None None\n",
        "None None\n",
        "None None\n",
        "None None\n",
        "None None\n",
        "None None\n",
        "None None\n",
        "None None\n",
        "None"
       ]
      },
      {
       "output_type": "stream",
       "stream": "stdout",
       "text": [
        " None\n",
        "None None\n",
        "None None\n",
        "None None\n",
        "None None\n",
        "None None\n",
        "None None\n",
        "None None\n",
        "None None\n",
        "None None\n",
        "None None\n",
        "None None\n",
        "None None\n",
        "None None\n",
        "None None\n",
        "None None\n",
        "None None\n",
        "None None\n",
        "None None\n",
        "None None\n",
        "None None\n",
        "None"
       ]
      },
      {
       "output_type": "stream",
       "stream": "stdout",
       "text": [
        " None\n",
        "None None\n",
        "None None\n",
        "None None\n",
        "None None\n",
        "None None\n",
        "None None\n",
        "None None\n",
        "None None\n",
        "None None\n",
        "None None\n",
        "None None\n",
        "None None\n",
        "None None\n",
        "None None\n",
        "None None\n",
        "None None\n",
        "None None\n",
        "None None\n",
        "None None\n",
        "None None\n",
        "None None\n",
        "None None\n",
        "None None\n",
        "None"
       ]
      },
      {
       "output_type": "stream",
       "stream": "stdout",
       "text": [
        " None\n",
        "None None\n",
        "None None\n",
        "None None\n",
        "None None\n",
        "None None\n",
        "None None\n",
        "None None\n",
        "None None\n",
        "None None\n",
        "None None\n",
        "None None\n",
        "None None\n",
        "None None\n",
        "None None\n",
        "None None\n",
        "None None\n",
        "None None\n",
        "None None\n",
        "None None\n",
        "None None\n",
        "None None\n",
        "None None\n",
        "None None\n",
        "None"
       ]
      },
      {
       "output_type": "stream",
       "stream": "stdout",
       "text": [
        " None\n",
        "None None\n",
        "None None\n",
        "None None\n",
        "None None\n",
        "None None\n",
        "None None\n",
        "None None\n",
        "None None\n",
        "None None\n",
        "None None\n",
        "None None\n",
        "None None\n",
        "None None\n",
        "None None\n",
        "None None\n",
        "None None\n",
        "None None\n",
        "None None\n",
        "None None\n",
        "None None\n",
        "None None\n",
        "None"
       ]
      },
      {
       "output_type": "stream",
       "stream": "stdout",
       "text": [
        " None\n",
        "None None\n",
        "None None\n",
        "None None\n",
        "None None\n",
        "None None\n",
        "None None\n",
        "None None\n",
        "None None\n",
        "None None\n",
        "None None\n",
        "None None\n",
        "None None\n",
        "None None\n",
        "None None\n",
        "None None\n",
        "None None\n",
        "None None\n",
        "None None\n",
        "None None\n",
        "None None\n",
        "None None\n",
        "None None\n",
        "None None\n",
        "None None\n",
        "None None\n",
        "None None\n",
        "None None\n",
        "None None\n",
        "None None\n",
        "None None\n",
        "None None\n",
        "None None\n",
        "None None\n",
        "None None\n",
        "None None\n",
        "None None\n",
        "None None\n",
        "None None\n",
        "None None\n"
       ]
      }
     ],
     "prompt_number": 3
    },
    {
     "cell_type": "code",
     "collapsed": false,
     "input": [
      "for acl_entry in acl_feed.entry:\n",
      "    print acl_entry.role.value, acl_entry.scope.value, acl_entry.scope.type\n",
      "    "
     ],
     "language": "python",
     "metadata": {},
     "outputs": [
      {
       "ename": "NameError",
       "evalue": "name 'acl_feed' is not defined",
       "output_type": "pyerr",
       "traceback": [
        "\u001b[0;31m---------------------------------------------------------------------------\u001b[0m\n\u001b[0;31mNameError\u001b[0m                                 Traceback (most recent call last)",
        "\u001b[0;32m<ipython-input-4-f4818ef8ec01>\u001b[0m in \u001b[0;36m<module>\u001b[0;34m()\u001b[0m\n\u001b[0;32m----> 1\u001b[0;31m \u001b[0;32mfor\u001b[0m \u001b[0macl_entry\u001b[0m \u001b[0;32min\u001b[0m \u001b[0macl_feed\u001b[0m\u001b[0;34m.\u001b[0m\u001b[0mentry\u001b[0m\u001b[0;34m:\u001b[0m\u001b[0;34m\u001b[0m\u001b[0m\n\u001b[0m\u001b[1;32m      2\u001b[0m     \u001b[0;32mprint\u001b[0m \u001b[0macl_entry\u001b[0m\u001b[0;34m.\u001b[0m\u001b[0mrole\u001b[0m\u001b[0;34m.\u001b[0m\u001b[0mvalue\u001b[0m\u001b[0;34m,\u001b[0m \u001b[0macl_entry\u001b[0m\u001b[0;34m.\u001b[0m\u001b[0mscope\u001b[0m\u001b[0;34m.\u001b[0m\u001b[0mvalue\u001b[0m\u001b[0;34m,\u001b[0m \u001b[0macl_entry\u001b[0m\u001b[0;34m.\u001b[0m\u001b[0mscope\u001b[0m\u001b[0;34m.\u001b[0m\u001b[0mtype\u001b[0m\u001b[0;34m\u001b[0m\u001b[0m\n\u001b[1;32m      3\u001b[0m \u001b[0;34m\u001b[0m\u001b[0m\n",
        "\u001b[0;31mNameError\u001b[0m: name 'acl_feed' is not defined"
       ]
      }
     ],
     "prompt_number": 4
    },
    {
     "cell_type": "code",
     "collapsed": false,
     "input": [
      "from IPython.display import HTML\n",
      "HTML('<center><iframe src=' + sheet.url + '/pubhtml?widget=true&amp;headers=false width=400 height=200></iframe></center>')"
     ],
     "language": "python",
     "metadata": {},
     "outputs": [
      {
       "html": [
        "<center><iframe src=https://docs.google.com/spreadsheets/d/1kWBLPFhGt8PbbVGq_cSxfUAsBUjiA7OS3T_R7OHk0hk//pubhtml?widget=true&amp;headers=false width=400 height=200></iframe></center>"
       ],
       "metadata": {},
       "output_type": "pyout",
       "prompt_number": 5,
       "text": [
        "<IPython.core.display.HTML at 0x10d9c1f90>"
       ]
      }
     ],
     "prompt_number": 5
    },
    {
     "cell_type": "markdown",
     "metadata": {},
     "source": [
      "To read the data frame back from the spreadsheet you simply use the `read` method."
     ]
    },
    {
     "cell_type": "code",
     "collapsed": false,
     "input": [
      "df2 = sheet.read()"
     ],
     "language": "python",
     "metadata": {},
     "outputs": [],
     "prompt_number": 11
    },
    {
     "cell_type": "markdown",
     "metadata": {},
     "source": [
      "We can now update the spreadsheet, by modifying the data frame, and then requesting an update. The update command looks only for entries that have changed."
     ]
    },
    {
     "cell_type": "code",
     "collapsed": false,
     "input": [
      "df2['one']['a'] ='cat'\n",
      "sheet.update(df2)"
     ],
     "language": "python",
     "metadata": {},
     "outputs": [
      {
       "html": [
        "<div style=\"max-height:1000px;max-width:1500px;overflow:auto;\">\n",
        "<table border=\"1\" class=\"dataframe\">\n",
        "  <thead>\n",
        "    <tr style=\"text-align: right;\">\n",
        "      <th></th>\n",
        "      <th>one</th>\n",
        "      <th>two</th>\n",
        "    </tr>\n",
        "  </thead>\n",
        "  <tbody>\n",
        "    <tr>\n",
        "      <th>a</th>\n",
        "      <td>  1</td>\n",
        "      <td>  1</td>\n",
        "    </tr>\n",
        "    <tr>\n",
        "      <th>b</th>\n",
        "      <td>  2</td>\n",
        "      <td>  2</td>\n",
        "    </tr>\n",
        "    <tr>\n",
        "      <th>d</th>\n",
        "      <td>NaN</td>\n",
        "      <td>  4</td>\n",
        "    </tr>\n",
        "    <tr>\n",
        "      <th>c</th>\n",
        "      <td>  3</td>\n",
        "      <td>NaN</td>\n",
        "    </tr>\n",
        "  </tbody>\n",
        "</table>\n",
        "</div>"
       ],
       "metadata": {},
       "output_type": "pyout",
       "prompt_number": 12,
       "text": [
        "   one  two\n",
        "a    1    1\n",
        "b    2    2\n",
        "d  NaN    4\n",
        "c    3  NaN"
       ]
      }
     ],
     "prompt_number": 12
    },
    {
     "cell_type": "markdown",
     "metadata": {},
     "source": [
      "You should see the spreadsheet has changed. You can also delete rows."
     ]
    },
    {
     "cell_type": "code",
     "collapsed": false,
     "input": [
      "sheet.update(df2.drop('b'))"
     ],
     "language": "python",
     "metadata": {},
     "outputs": [
      {
       "html": [
        "<div style=\"max-height:1000px;max-width:1500px;overflow:auto;\">\n",
        "<table border=\"1\" class=\"dataframe\">\n",
        "  <thead>\n",
        "    <tr style=\"text-align: right;\">\n",
        "      <th></th>\n",
        "      <th>one</th>\n",
        "      <th>two</th>\n",
        "    </tr>\n",
        "  </thead>\n",
        "  <tbody>\n",
        "    <tr>\n",
        "      <th>a</th>\n",
        "      <td> cat</td>\n",
        "      <td> 1</td>\n",
        "    </tr>\n",
        "    <tr>\n",
        "      <th>b</th>\n",
        "      <td>   2</td>\n",
        "      <td> 2</td>\n",
        "    </tr>\n",
        "    <tr>\n",
        "      <th>c</th>\n",
        "      <td>   3</td>\n",
        "      <td> 3</td>\n",
        "    </tr>\n",
        "    <tr>\n",
        "      <th>d</th>\n",
        "      <td> NaN</td>\n",
        "      <td> 4</td>\n",
        "    </tr>\n",
        "  </tbody>\n",
        "</table>\n",
        "</div>"
       ],
       "metadata": {},
       "output_type": "pyout",
       "prompt_number": 12,
       "text": [
        "   one  two\n",
        "a  cat    1\n",
        "b    2    2\n",
        "c    3    3\n",
        "d  NaN    4"
       ]
      }
     ],
     "prompt_number": 12
    },
    {
     "cell_type": "markdown",
     "metadata": {},
     "source": [
      "Or add them in again. Here we update back to the original data frame (`df`). Note when you look at the google doc that the row is added at the end of the spreadsheet. This is so that any sorting of other rows in the spreadsheet is preserved."
     ]
    },
    {
     "cell_type": "code",
     "collapsed": false,
     "input": [
      "sheet.update(df)"
     ],
     "language": "python",
     "metadata": {},
     "outputs": [
      {
       "html": [
        "<div style=\"max-height:1000px;max-width:1500px;overflow:auto;\">\n",
        "<table border=\"1\" class=\"dataframe\">\n",
        "  <thead>\n",
        "    <tr style=\"text-align: right;\">\n",
        "      <th></th>\n",
        "      <th>one</th>\n",
        "      <th>two</th>\n",
        "    </tr>\n",
        "  </thead>\n",
        "  <tbody>\n",
        "    <tr>\n",
        "      <th>a</th>\n",
        "      <td> cat</td>\n",
        "      <td> 1</td>\n",
        "    </tr>\n",
        "    <tr>\n",
        "      <th>b</th>\n",
        "      <td>   2</td>\n",
        "      <td> 2</td>\n",
        "    </tr>\n",
        "    <tr>\n",
        "      <th>d</th>\n",
        "      <td> NaN</td>\n",
        "      <td> 4</td>\n",
        "    </tr>\n",
        "  </tbody>\n",
        "</table>\n",
        "</div>"
       ],
       "metadata": {},
       "output_type": "pyout",
       "prompt_number": 13,
       "text": [
        "   one  two\n",
        "a  cat    1\n",
        "b    2    2\n",
        "d  NaN    4"
       ]
      }
     ],
     "prompt_number": 13
    },
    {
     "cell_type": "markdown",
     "metadata": {},
     "source": [
      "Let's open the sheet again with a new interface."
     ]
    },
    {
     "cell_type": "code",
     "collapsed": false,
     "input": [
      "sheet2 = sods.data.google_sheet(spreadsheet_key=sheet._key)\n",
      "df4 = sheet2.read()\n",
      "print df4"
     ],
     "language": "python",
     "metadata": {},
     "outputs": [
      {
       "output_type": "stream",
       "stream": "stdout",
       "text": [
        "   one  two\n",
        "a    1    1\n",
        "b    2    2\n",
        "d  NaN    4\n",
        "c    3  NaN\n",
        "c    3    3\n"
       ]
      }
     ],
     "prompt_number": 14
    },
    {
     "cell_type": "markdown",
     "metadata": {},
     "source": [
      "Note that because we deleted the row indexed by `'b'` and then updated the spreadsheet, the row of `b` was added back at the end of the spreadsheet."
     ]
    },
    {
     "cell_type": "code",
     "collapsed": false,
     "input": [
      "sheet.update(df4.drop('c'))"
     ],
     "language": "python",
     "metadata": {},
     "outputs": [
      {
       "html": [
        "<div style=\"max-height:1000px;max-width:1500px;overflow:auto;\">\n",
        "<table border=\"1\" class=\"dataframe\">\n",
        "  <thead>\n",
        "    <tr style=\"text-align: right;\">\n",
        "      <th></th>\n",
        "      <th>one</th>\n",
        "      <th>two</th>\n",
        "    </tr>\n",
        "  </thead>\n",
        "  <tbody>\n",
        "    <tr>\n",
        "      <th>a</th>\n",
        "      <td>  1</td>\n",
        "      <td>  1</td>\n",
        "    </tr>\n",
        "    <tr>\n",
        "      <th>b</th>\n",
        "      <td>  2</td>\n",
        "      <td>  2</td>\n",
        "    </tr>\n",
        "    <tr>\n",
        "      <th>d</th>\n",
        "      <td>NaN</td>\n",
        "      <td>  4</td>\n",
        "    </tr>\n",
        "    <tr>\n",
        "      <th>c</th>\n",
        "      <td>  3</td>\n",
        "      <td>NaN</td>\n",
        "    </tr>\n",
        "    <tr>\n",
        "      <th>c</th>\n",
        "      <td>  3</td>\n",
        "      <td>  3</td>\n",
        "    </tr>\n",
        "  </tbody>\n",
        "</table>\n",
        "</div>"
       ],
       "metadata": {},
       "output_type": "pyout",
       "prompt_number": 15,
       "text": [
        "   one  two\n",
        "a    1    1\n",
        "b    2    2\n",
        "d  NaN    4\n",
        "c    3  NaN\n",
        "c    3    3"
       ]
      }
     ],
     "prompt_number": 15
    },
    {
     "cell_type": "code",
     "collapsed": false,
     "input": [
      "from IPython.display import HTML\n",
      "HTML('<center><iframe src=' + sheet2.url + '/pubhtml?widget=true&amp;headers=false width=400 height=200></iframe></center>')"
     ],
     "language": "python",
     "metadata": {},
     "outputs": [
      {
       "html": [
        "<center><iframe src=https://docs.google.com/spreadsheets/d/1kWBLPFhGt8PbbVGq_cSxfUAsBUjiA7OS3T_R7OHk0hk//pubhtml?widget=true&amp;headers=false width=400 height=200></iframe></center>"
       ],
       "metadata": {},
       "output_type": "pyout",
       "prompt_number": 16,
       "text": [
        "<IPython.core.display.HTML at 0x10c2a0890>"
       ]
      }
     ],
     "prompt_number": 16
    },
    {
     "cell_type": "code",
     "collapsed": false,
     "input": [],
     "language": "python",
     "metadata": {},
     "outputs": [],
     "prompt_number": 16
    }
   ],
   "metadata": {}
  }
 ]
}